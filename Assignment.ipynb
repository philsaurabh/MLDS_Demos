{
  "nbformat": 4,
  "nbformat_minor": 0,
  "metadata": {
    "colab": {
      "name": "Assignment.ipynb",
      "provenance": [],
      "collapsed_sections": [],
      "authorship_tag": "ABX9TyO+V7OIJDTkA2d0Uz64rmsj",
      "include_colab_link": true
    },
    "kernelspec": {
      "name": "python3",
      "display_name": "Python 3"
    },
    "language_info": {
      "name": "python"
    }
  },
  "cells": [
    {
      "cell_type": "markdown",
      "metadata": {
        "id": "view-in-github",
        "colab_type": "text"
      },
      "source": [
        "<a href=\"https://colab.research.google.com/github/philsaurabh/Machine-Learning-Tutorials/blob/main/Assignment.ipynb\" target=\"_parent\"><img src=\"https://colab.research.google.com/assets/colab-badge.svg\" alt=\"Open In Colab\"/></a>"
      ]
    },
    {
      "cell_type": "markdown",
      "source": [
        "# Consider the *titanic.csv* for your analysis."
      ],
      "metadata": {
        "id": "nu9Po5dNjZEr"
      }
    },
    {
      "cell_type": "markdown",
      "source": [
        "# Import the essential libraies and dataset."
      ],
      "metadata": {
        "id": "5xutgqVQnbOX"
      }
    },
    {
      "cell_type": "code",
      "source": [
        ""
      ],
      "metadata": {
        "id": "N9pF2kDonfnC"
      },
      "execution_count": null,
      "outputs": []
    },
    {
      "cell_type": "markdown",
      "source": [
        "# Description\n",
        "\n",
        "\n",
        "1.   Print the description of dataset.\n",
        "2.   Print the null value count of the dataset.\n",
        "3.   Print head, tail and info of the dataset.\n",
        "\n"
      ],
      "metadata": {
        "id": "ZuYbrpM6j6Zm"
      }
    },
    {
      "cell_type": "code",
      "source": [
        ""
      ],
      "metadata": {
        "id": "4Tx_07Aplo9r"
      },
      "execution_count": null,
      "outputs": []
    },
    {
      "cell_type": "markdown",
      "source": [
        "# Data Preprocessing\n",
        "\n",
        "\n",
        "1.   Handle the missing values using drop function.\n",
        "2.   Fill the NAN values or null values with the mean and median of data separately and for each case, just create a different column and use that for further analysis.\n",
        "3.   Map the string values(\"Like true/false\") with the numerical values(0,1).\n",
        "4.   Apply the scaling on the dataset.\n",
        "\n"
      ],
      "metadata": {
        "id": "jqSYS0EUjfFI"
      }
    },
    {
      "cell_type": "code",
      "source": [
        ""
      ],
      "metadata": {
        "id": "Fp674LLalplo"
      },
      "execution_count": null,
      "outputs": []
    },
    {
      "cell_type": "markdown",
      "source": [
        "# Train test Split\n",
        "\n",
        "\n",
        "1.   Select relevant colums for training of the classifiers (For example, name of someone can't be used for any analysis for this case.).\n",
        "2.   Select X and y.\n",
        "3.   Use X and y and split data with 80%-20% train-test split.\n"
      ],
      "metadata": {
        "id": "Z2XfEr_2jkjB"
      }
    },
    {
      "cell_type": "code",
      "source": [
        ""
      ],
      "metadata": {
        "id": "qtl5P2xul2cJ"
      },
      "execution_count": null,
      "outputs": []
    },
    {
      "cell_type": "markdown",
      "source": [
        "# Classifiers\n",
        "\n",
        "\n",
        "1.   Apply logistic regression and print ANOVA table. Also print the intercept and coefficients.\n",
        "2.   Apply SVM, Decision Tree, K Nearest Neighbors and Gaussian Naive Bayes on the dataset.\n"
      ],
      "metadata": {
        "id": "6-qGhMyBjnYP"
      }
    },
    {
      "cell_type": "code",
      "source": [
        ""
      ],
      "metadata": {
        "id": "PVPm-0qUl29G"
      },
      "execution_count": null,
      "outputs": []
    },
    {
      "cell_type": "markdown",
      "source": [
        "# Performance Metrics\n",
        "\n",
        "\n",
        "For each of the classifier applied, print:\n",
        "\n",
        "\n",
        "*   Accuracy Score\n",
        "*   F1- Score\n",
        "*   Recall\n",
        "*   Classification Report\n",
        "*   Confusion Matrix\n",
        "\n"
      ],
      "metadata": {
        "id": "9qODorBejslN"
      }
    },
    {
      "cell_type": "code",
      "source": [
        ""
      ],
      "metadata": {
        "id": "8i-alU9Cmyjd"
      },
      "execution_count": null,
      "outputs": []
    },
    {
      "cell_type": "markdown",
      "source": [
        "# Plotting the curve\n",
        "Plot ROC-AUC curve for Logistic regression."
      ],
      "metadata": {
        "id": "5m5R1hQgjyEj"
      }
    },
    {
      "cell_type": "code",
      "source": [
        ""
      ],
      "metadata": {
        "id": "9N3oLrxDmzFs"
      },
      "execution_count": null,
      "outputs": []
    },
    {
      "cell_type": "markdown",
      "source": [
        "# All the best."
      ],
      "metadata": {
        "id": "_xPaTOR9m0kR"
      }
    }
  ]
}