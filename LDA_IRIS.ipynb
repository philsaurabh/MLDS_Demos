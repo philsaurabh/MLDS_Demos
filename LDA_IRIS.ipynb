{
  "nbformat": 4,
  "nbformat_minor": 0,
  "metadata": {
    "colab": {
      "name": "LDA IRIS.ipynb",
      "provenance": [],
      "authorship_tag": "ABX9TyPKGXY+ZHkZkzhUO6j0/eET",
      "include_colab_link": true
    },
    "kernelspec": {
      "name": "python3",
      "display_name": "Python 3"
    },
    "language_info": {
      "name": "python"
    }
  },
  "cells": [
    {
      "cell_type": "markdown",
      "metadata": {
        "id": "view-in-github",
        "colab_type": "text"
      },
      "source": [
        "<a href=\"https://colab.research.google.com/github/philsaurabh/Machine-Learning-Tutorials/blob/main/LDA_IRIS.ipynb\" target=\"_parent\"><img src=\"https://colab.research.google.com/assets/colab-badge.svg\" alt=\"Open In Colab\"/></a>"
      ]
    },
    {
      "cell_type": "markdown",
      "source": [
        "# Import libraries"
      ],
      "metadata": {
        "id": "de85fWTURf7g"
      }
    },
    {
      "cell_type": "code",
      "execution_count": 1,
      "metadata": {
        "id": "5IoSep5PLIm1"
      },
      "outputs": [],
      "source": [
        "import pandas as pd \n",
        "import numpy as np\n",
        "import seaborn as sns\n",
        "import matplotlib.pyplot as plt"
      ]
    },
    {
      "cell_type": "markdown",
      "source": [
        "# Import dataset"
      ],
      "metadata": {
        "id": "AXEiN-_tRiyS"
      }
    },
    {
      "cell_type": "code",
      "source": [
        "df = pd.read_csv('https://raw.githubusercontent.com/philsaurabh/Machine-Learning-Tutorials/main/iris.csv')"
      ],
      "metadata": {
        "id": "rqvFKocFLwot"
      },
      "execution_count": 2,
      "outputs": []
    },
    {
      "cell_type": "code",
      "source": [
        "df.head()"
      ],
      "metadata": {
        "colab": {
          "base_uri": "https://localhost:8080/",
          "height": 206
        },
        "id": "h2ebyRl7L3uw",
        "outputId": "931be233-5df1-4383-dcf8-573756790084"
      },
      "execution_count": 3,
      "outputs": [
        {
          "output_type": "execute_result",
          "data": {
            "text/html": [
              "\n",
              "  <div id=\"df-4175267a-2f44-4a36-bcb2-0b9ba7e6039f\">\n",
              "    <div class=\"colab-df-container\">\n",
              "      <div>\n",
              "<style scoped>\n",
              "    .dataframe tbody tr th:only-of-type {\n",
              "        vertical-align: middle;\n",
              "    }\n",
              "\n",
              "    .dataframe tbody tr th {\n",
              "        vertical-align: top;\n",
              "    }\n",
              "\n",
              "    .dataframe thead th {\n",
              "        text-align: right;\n",
              "    }\n",
              "</style>\n",
              "<table border=\"1\" class=\"dataframe\">\n",
              "  <thead>\n",
              "    <tr style=\"text-align: right;\">\n",
              "      <th></th>\n",
              "      <th>Unnamed: 0</th>\n",
              "      <th>sepal length</th>\n",
              "      <th>sepal width</th>\n",
              "      <th>petal length</th>\n",
              "      <th>petal width</th>\n",
              "      <th>target</th>\n",
              "    </tr>\n",
              "  </thead>\n",
              "  <tbody>\n",
              "    <tr>\n",
              "      <th>0</th>\n",
              "      <td>0</td>\n",
              "      <td>5.1</td>\n",
              "      <td>3.5</td>\n",
              "      <td>1.4</td>\n",
              "      <td>0.2</td>\n",
              "      <td>Iris-setosa</td>\n",
              "    </tr>\n",
              "    <tr>\n",
              "      <th>1</th>\n",
              "      <td>1</td>\n",
              "      <td>4.9</td>\n",
              "      <td>3.0</td>\n",
              "      <td>1.4</td>\n",
              "      <td>0.2</td>\n",
              "      <td>Iris-setosa</td>\n",
              "    </tr>\n",
              "    <tr>\n",
              "      <th>2</th>\n",
              "      <td>2</td>\n",
              "      <td>4.7</td>\n",
              "      <td>3.2</td>\n",
              "      <td>1.3</td>\n",
              "      <td>0.2</td>\n",
              "      <td>Iris-setosa</td>\n",
              "    </tr>\n",
              "    <tr>\n",
              "      <th>3</th>\n",
              "      <td>3</td>\n",
              "      <td>4.6</td>\n",
              "      <td>3.1</td>\n",
              "      <td>1.5</td>\n",
              "      <td>0.2</td>\n",
              "      <td>Iris-setosa</td>\n",
              "    </tr>\n",
              "    <tr>\n",
              "      <th>4</th>\n",
              "      <td>4</td>\n",
              "      <td>5.0</td>\n",
              "      <td>3.6</td>\n",
              "      <td>1.4</td>\n",
              "      <td>0.2</td>\n",
              "      <td>Iris-setosa</td>\n",
              "    </tr>\n",
              "  </tbody>\n",
              "</table>\n",
              "</div>\n",
              "      <button class=\"colab-df-convert\" onclick=\"convertToInteractive('df-4175267a-2f44-4a36-bcb2-0b9ba7e6039f')\"\n",
              "              title=\"Convert this dataframe to an interactive table.\"\n",
              "              style=\"display:none;\">\n",
              "        \n",
              "  <svg xmlns=\"http://www.w3.org/2000/svg\" height=\"24px\"viewBox=\"0 0 24 24\"\n",
              "       width=\"24px\">\n",
              "    <path d=\"M0 0h24v24H0V0z\" fill=\"none\"/>\n",
              "    <path d=\"M18.56 5.44l.94 2.06.94-2.06 2.06-.94-2.06-.94-.94-2.06-.94 2.06-2.06.94zm-11 1L8.5 8.5l.94-2.06 2.06-.94-2.06-.94L8.5 2.5l-.94 2.06-2.06.94zm10 10l.94 2.06.94-2.06 2.06-.94-2.06-.94-.94-2.06-.94 2.06-2.06.94z\"/><path d=\"M17.41 7.96l-1.37-1.37c-.4-.4-.92-.59-1.43-.59-.52 0-1.04.2-1.43.59L10.3 9.45l-7.72 7.72c-.78.78-.78 2.05 0 2.83L4 21.41c.39.39.9.59 1.41.59.51 0 1.02-.2 1.41-.59l7.78-7.78 2.81-2.81c.8-.78.8-2.07 0-2.86zM5.41 20L4 18.59l7.72-7.72 1.47 1.35L5.41 20z\"/>\n",
              "  </svg>\n",
              "      </button>\n",
              "      \n",
              "  <style>\n",
              "    .colab-df-container {\n",
              "      display:flex;\n",
              "      flex-wrap:wrap;\n",
              "      gap: 12px;\n",
              "    }\n",
              "\n",
              "    .colab-df-convert {\n",
              "      background-color: #E8F0FE;\n",
              "      border: none;\n",
              "      border-radius: 50%;\n",
              "      cursor: pointer;\n",
              "      display: none;\n",
              "      fill: #1967D2;\n",
              "      height: 32px;\n",
              "      padding: 0 0 0 0;\n",
              "      width: 32px;\n",
              "    }\n",
              "\n",
              "    .colab-df-convert:hover {\n",
              "      background-color: #E2EBFA;\n",
              "      box-shadow: 0px 1px 2px rgba(60, 64, 67, 0.3), 0px 1px 3px 1px rgba(60, 64, 67, 0.15);\n",
              "      fill: #174EA6;\n",
              "    }\n",
              "\n",
              "    [theme=dark] .colab-df-convert {\n",
              "      background-color: #3B4455;\n",
              "      fill: #D2E3FC;\n",
              "    }\n",
              "\n",
              "    [theme=dark] .colab-df-convert:hover {\n",
              "      background-color: #434B5C;\n",
              "      box-shadow: 0px 1px 3px 1px rgba(0, 0, 0, 0.15);\n",
              "      filter: drop-shadow(0px 1px 2px rgba(0, 0, 0, 0.3));\n",
              "      fill: #FFFFFF;\n",
              "    }\n",
              "  </style>\n",
              "\n",
              "      <script>\n",
              "        const buttonEl =\n",
              "          document.querySelector('#df-4175267a-2f44-4a36-bcb2-0b9ba7e6039f button.colab-df-convert');\n",
              "        buttonEl.style.display =\n",
              "          google.colab.kernel.accessAllowed ? 'block' : 'none';\n",
              "\n",
              "        async function convertToInteractive(key) {\n",
              "          const element = document.querySelector('#df-4175267a-2f44-4a36-bcb2-0b9ba7e6039f');\n",
              "          const dataTable =\n",
              "            await google.colab.kernel.invokeFunction('convertToInteractive',\n",
              "                                                     [key], {});\n",
              "          if (!dataTable) return;\n",
              "\n",
              "          const docLinkHtml = 'Like what you see? Visit the ' +\n",
              "            '<a target=\"_blank\" href=https://colab.research.google.com/notebooks/data_table.ipynb>data table notebook</a>'\n",
              "            + ' to learn more about interactive tables.';\n",
              "          element.innerHTML = '';\n",
              "          dataTable['output_type'] = 'display_data';\n",
              "          await google.colab.output.renderOutput(dataTable, element);\n",
              "          const docLink = document.createElement('div');\n",
              "          docLink.innerHTML = docLinkHtml;\n",
              "          element.appendChild(docLink);\n",
              "        }\n",
              "      </script>\n",
              "    </div>\n",
              "  </div>\n",
              "  "
            ],
            "text/plain": [
              "   Unnamed: 0  sepal length  ...  petal width       target\n",
              "0           0           5.1  ...          0.2  Iris-setosa\n",
              "1           1           4.9  ...          0.2  Iris-setosa\n",
              "2           2           4.7  ...          0.2  Iris-setosa\n",
              "3           3           4.6  ...          0.2  Iris-setosa\n",
              "4           4           5.0  ...          0.2  Iris-setosa\n",
              "\n",
              "[5 rows x 6 columns]"
            ]
          },
          "metadata": {},
          "execution_count": 3
        }
      ]
    },
    {
      "cell_type": "code",
      "source": [
        "df.shape"
      ],
      "metadata": {
        "colab": {
          "base_uri": "https://localhost:8080/"
        },
        "id": "CMWe9TXXL5if",
        "outputId": "598c6ed7-4e6d-4119-9d13-5705229fec96"
      },
      "execution_count": 4,
      "outputs": [
        {
          "output_type": "execute_result",
          "data": {
            "text/plain": [
              "(150, 6)"
            ]
          },
          "metadata": {},
          "execution_count": 4
        }
      ]
    },
    {
      "cell_type": "code",
      "source": [
        "df.columns"
      ],
      "metadata": {
        "colab": {
          "base_uri": "https://localhost:8080/"
        },
        "id": "Z9MqrddyMhDv",
        "outputId": "1b2b3d84-8a3c-4b20-e7af-ce987f51a7e7"
      },
      "execution_count": 5,
      "outputs": [
        {
          "output_type": "execute_result",
          "data": {
            "text/plain": [
              "Index(['Unnamed: 0', 'sepal length', 'sepal width', 'petal length',\n",
              "       'petal width', 'target'],\n",
              "      dtype='object')"
            ]
          },
          "metadata": {},
          "execution_count": 5
        }
      ]
    },
    {
      "cell_type": "code",
      "source": [
        "df.describe()"
      ],
      "metadata": {
        "colab": {
          "base_uri": "https://localhost:8080/",
          "height": 300
        },
        "id": "o5tY-eImMmhv",
        "outputId": "aa8a259e-09c3-443c-8b34-54427c294ddd"
      },
      "execution_count": 6,
      "outputs": [
        {
          "output_type": "execute_result",
          "data": {
            "text/html": [
              "\n",
              "  <div id=\"df-30b37ac0-dd4e-4315-98b8-ce693f96a7c2\">\n",
              "    <div class=\"colab-df-container\">\n",
              "      <div>\n",
              "<style scoped>\n",
              "    .dataframe tbody tr th:only-of-type {\n",
              "        vertical-align: middle;\n",
              "    }\n",
              "\n",
              "    .dataframe tbody tr th {\n",
              "        vertical-align: top;\n",
              "    }\n",
              "\n",
              "    .dataframe thead th {\n",
              "        text-align: right;\n",
              "    }\n",
              "</style>\n",
              "<table border=\"1\" class=\"dataframe\">\n",
              "  <thead>\n",
              "    <tr style=\"text-align: right;\">\n",
              "      <th></th>\n",
              "      <th>Unnamed: 0</th>\n",
              "      <th>sepal length</th>\n",
              "      <th>sepal width</th>\n",
              "      <th>petal length</th>\n",
              "      <th>petal width</th>\n",
              "    </tr>\n",
              "  </thead>\n",
              "  <tbody>\n",
              "    <tr>\n",
              "      <th>count</th>\n",
              "      <td>150.000000</td>\n",
              "      <td>150.000000</td>\n",
              "      <td>150.000000</td>\n",
              "      <td>150.000000</td>\n",
              "      <td>150.000000</td>\n",
              "    </tr>\n",
              "    <tr>\n",
              "      <th>mean</th>\n",
              "      <td>74.500000</td>\n",
              "      <td>5.843333</td>\n",
              "      <td>3.054000</td>\n",
              "      <td>3.758667</td>\n",
              "      <td>1.198667</td>\n",
              "    </tr>\n",
              "    <tr>\n",
              "      <th>std</th>\n",
              "      <td>43.445368</td>\n",
              "      <td>0.828066</td>\n",
              "      <td>0.433594</td>\n",
              "      <td>1.764420</td>\n",
              "      <td>0.763161</td>\n",
              "    </tr>\n",
              "    <tr>\n",
              "      <th>min</th>\n",
              "      <td>0.000000</td>\n",
              "      <td>4.300000</td>\n",
              "      <td>2.000000</td>\n",
              "      <td>1.000000</td>\n",
              "      <td>0.100000</td>\n",
              "    </tr>\n",
              "    <tr>\n",
              "      <th>25%</th>\n",
              "      <td>37.250000</td>\n",
              "      <td>5.100000</td>\n",
              "      <td>2.800000</td>\n",
              "      <td>1.600000</td>\n",
              "      <td>0.300000</td>\n",
              "    </tr>\n",
              "    <tr>\n",
              "      <th>50%</th>\n",
              "      <td>74.500000</td>\n",
              "      <td>5.800000</td>\n",
              "      <td>3.000000</td>\n",
              "      <td>4.350000</td>\n",
              "      <td>1.300000</td>\n",
              "    </tr>\n",
              "    <tr>\n",
              "      <th>75%</th>\n",
              "      <td>111.750000</td>\n",
              "      <td>6.400000</td>\n",
              "      <td>3.300000</td>\n",
              "      <td>5.100000</td>\n",
              "      <td>1.800000</td>\n",
              "    </tr>\n",
              "    <tr>\n",
              "      <th>max</th>\n",
              "      <td>149.000000</td>\n",
              "      <td>7.900000</td>\n",
              "      <td>4.400000</td>\n",
              "      <td>6.900000</td>\n",
              "      <td>2.500000</td>\n",
              "    </tr>\n",
              "  </tbody>\n",
              "</table>\n",
              "</div>\n",
              "      <button class=\"colab-df-convert\" onclick=\"convertToInteractive('df-30b37ac0-dd4e-4315-98b8-ce693f96a7c2')\"\n",
              "              title=\"Convert this dataframe to an interactive table.\"\n",
              "              style=\"display:none;\">\n",
              "        \n",
              "  <svg xmlns=\"http://www.w3.org/2000/svg\" height=\"24px\"viewBox=\"0 0 24 24\"\n",
              "       width=\"24px\">\n",
              "    <path d=\"M0 0h24v24H0V0z\" fill=\"none\"/>\n",
              "    <path d=\"M18.56 5.44l.94 2.06.94-2.06 2.06-.94-2.06-.94-.94-2.06-.94 2.06-2.06.94zm-11 1L8.5 8.5l.94-2.06 2.06-.94-2.06-.94L8.5 2.5l-.94 2.06-2.06.94zm10 10l.94 2.06.94-2.06 2.06-.94-2.06-.94-.94-2.06-.94 2.06-2.06.94z\"/><path d=\"M17.41 7.96l-1.37-1.37c-.4-.4-.92-.59-1.43-.59-.52 0-1.04.2-1.43.59L10.3 9.45l-7.72 7.72c-.78.78-.78 2.05 0 2.83L4 21.41c.39.39.9.59 1.41.59.51 0 1.02-.2 1.41-.59l7.78-7.78 2.81-2.81c.8-.78.8-2.07 0-2.86zM5.41 20L4 18.59l7.72-7.72 1.47 1.35L5.41 20z\"/>\n",
              "  </svg>\n",
              "      </button>\n",
              "      \n",
              "  <style>\n",
              "    .colab-df-container {\n",
              "      display:flex;\n",
              "      flex-wrap:wrap;\n",
              "      gap: 12px;\n",
              "    }\n",
              "\n",
              "    .colab-df-convert {\n",
              "      background-color: #E8F0FE;\n",
              "      border: none;\n",
              "      border-radius: 50%;\n",
              "      cursor: pointer;\n",
              "      display: none;\n",
              "      fill: #1967D2;\n",
              "      height: 32px;\n",
              "      padding: 0 0 0 0;\n",
              "      width: 32px;\n",
              "    }\n",
              "\n",
              "    .colab-df-convert:hover {\n",
              "      background-color: #E2EBFA;\n",
              "      box-shadow: 0px 1px 2px rgba(60, 64, 67, 0.3), 0px 1px 3px 1px rgba(60, 64, 67, 0.15);\n",
              "      fill: #174EA6;\n",
              "    }\n",
              "\n",
              "    [theme=dark] .colab-df-convert {\n",
              "      background-color: #3B4455;\n",
              "      fill: #D2E3FC;\n",
              "    }\n",
              "\n",
              "    [theme=dark] .colab-df-convert:hover {\n",
              "      background-color: #434B5C;\n",
              "      box-shadow: 0px 1px 3px 1px rgba(0, 0, 0, 0.15);\n",
              "      filter: drop-shadow(0px 1px 2px rgba(0, 0, 0, 0.3));\n",
              "      fill: #FFFFFF;\n",
              "    }\n",
              "  </style>\n",
              "\n",
              "      <script>\n",
              "        const buttonEl =\n",
              "          document.querySelector('#df-30b37ac0-dd4e-4315-98b8-ce693f96a7c2 button.colab-df-convert');\n",
              "        buttonEl.style.display =\n",
              "          google.colab.kernel.accessAllowed ? 'block' : 'none';\n",
              "\n",
              "        async function convertToInteractive(key) {\n",
              "          const element = document.querySelector('#df-30b37ac0-dd4e-4315-98b8-ce693f96a7c2');\n",
              "          const dataTable =\n",
              "            await google.colab.kernel.invokeFunction('convertToInteractive',\n",
              "                                                     [key], {});\n",
              "          if (!dataTable) return;\n",
              "\n",
              "          const docLinkHtml = 'Like what you see? Visit the ' +\n",
              "            '<a target=\"_blank\" href=https://colab.research.google.com/notebooks/data_table.ipynb>data table notebook</a>'\n",
              "            + ' to learn more about interactive tables.';\n",
              "          element.innerHTML = '';\n",
              "          dataTable['output_type'] = 'display_data';\n",
              "          await google.colab.output.renderOutput(dataTable, element);\n",
              "          const docLink = document.createElement('div');\n",
              "          docLink.innerHTML = docLinkHtml;\n",
              "          element.appendChild(docLink);\n",
              "        }\n",
              "      </script>\n",
              "    </div>\n",
              "  </div>\n",
              "  "
            ],
            "text/plain": [
              "       Unnamed: 0  sepal length  sepal width  petal length  petal width\n",
              "count  150.000000    150.000000   150.000000    150.000000   150.000000\n",
              "mean    74.500000      5.843333     3.054000      3.758667     1.198667\n",
              "std     43.445368      0.828066     0.433594      1.764420     0.763161\n",
              "min      0.000000      4.300000     2.000000      1.000000     0.100000\n",
              "25%     37.250000      5.100000     2.800000      1.600000     0.300000\n",
              "50%     74.500000      5.800000     3.000000      4.350000     1.300000\n",
              "75%    111.750000      6.400000     3.300000      5.100000     1.800000\n",
              "max    149.000000      7.900000     4.400000      6.900000     2.500000"
            ]
          },
          "metadata": {},
          "execution_count": 6
        }
      ]
    },
    {
      "cell_type": "markdown",
      "source": [
        "# Data Cleaning and Preprocessing"
      ],
      "metadata": {
        "id": "TygAZSxsRobW"
      }
    },
    {
      "cell_type": "code",
      "source": [
        "df.isnull().sum().sum()"
      ],
      "metadata": {
        "colab": {
          "base_uri": "https://localhost:8080/"
        },
        "id": "wiNVywfgPbAZ",
        "outputId": "7df19636-1131-4704-c0ff-422b68ae1d3d"
      },
      "execution_count": 7,
      "outputs": [
        {
          "output_type": "execute_result",
          "data": {
            "text/plain": [
              "0"
            ]
          },
          "metadata": {},
          "execution_count": 7
        }
      ]
    },
    {
      "cell_type": "code",
      "source": [
        "df.drop('Unnamed: 0', axis=1, inplace=True)"
      ],
      "metadata": {
        "id": "5obnbEvlPiBv"
      },
      "execution_count": 8,
      "outputs": []
    },
    {
      "cell_type": "code",
      "source": [
        "df.head()"
      ],
      "metadata": {
        "colab": {
          "base_uri": "https://localhost:8080/",
          "height": 206
        },
        "id": "BUTUwj_iPrrq",
        "outputId": "665c40a9-5e36-44c1-a43a-f05ca57bc7f1"
      },
      "execution_count": 9,
      "outputs": [
        {
          "output_type": "execute_result",
          "data": {
            "text/html": [
              "\n",
              "  <div id=\"df-3076ca4a-38ea-492c-819a-d26a9ce862d3\">\n",
              "    <div class=\"colab-df-container\">\n",
              "      <div>\n",
              "<style scoped>\n",
              "    .dataframe tbody tr th:only-of-type {\n",
              "        vertical-align: middle;\n",
              "    }\n",
              "\n",
              "    .dataframe tbody tr th {\n",
              "        vertical-align: top;\n",
              "    }\n",
              "\n",
              "    .dataframe thead th {\n",
              "        text-align: right;\n",
              "    }\n",
              "</style>\n",
              "<table border=\"1\" class=\"dataframe\">\n",
              "  <thead>\n",
              "    <tr style=\"text-align: right;\">\n",
              "      <th></th>\n",
              "      <th>sepal length</th>\n",
              "      <th>sepal width</th>\n",
              "      <th>petal length</th>\n",
              "      <th>petal width</th>\n",
              "      <th>target</th>\n",
              "    </tr>\n",
              "  </thead>\n",
              "  <tbody>\n",
              "    <tr>\n",
              "      <th>0</th>\n",
              "      <td>5.1</td>\n",
              "      <td>3.5</td>\n",
              "      <td>1.4</td>\n",
              "      <td>0.2</td>\n",
              "      <td>Iris-setosa</td>\n",
              "    </tr>\n",
              "    <tr>\n",
              "      <th>1</th>\n",
              "      <td>4.9</td>\n",
              "      <td>3.0</td>\n",
              "      <td>1.4</td>\n",
              "      <td>0.2</td>\n",
              "      <td>Iris-setosa</td>\n",
              "    </tr>\n",
              "    <tr>\n",
              "      <th>2</th>\n",
              "      <td>4.7</td>\n",
              "      <td>3.2</td>\n",
              "      <td>1.3</td>\n",
              "      <td>0.2</td>\n",
              "      <td>Iris-setosa</td>\n",
              "    </tr>\n",
              "    <tr>\n",
              "      <th>3</th>\n",
              "      <td>4.6</td>\n",
              "      <td>3.1</td>\n",
              "      <td>1.5</td>\n",
              "      <td>0.2</td>\n",
              "      <td>Iris-setosa</td>\n",
              "    </tr>\n",
              "    <tr>\n",
              "      <th>4</th>\n",
              "      <td>5.0</td>\n",
              "      <td>3.6</td>\n",
              "      <td>1.4</td>\n",
              "      <td>0.2</td>\n",
              "      <td>Iris-setosa</td>\n",
              "    </tr>\n",
              "  </tbody>\n",
              "</table>\n",
              "</div>\n",
              "      <button class=\"colab-df-convert\" onclick=\"convertToInteractive('df-3076ca4a-38ea-492c-819a-d26a9ce862d3')\"\n",
              "              title=\"Convert this dataframe to an interactive table.\"\n",
              "              style=\"display:none;\">\n",
              "        \n",
              "  <svg xmlns=\"http://www.w3.org/2000/svg\" height=\"24px\"viewBox=\"0 0 24 24\"\n",
              "       width=\"24px\">\n",
              "    <path d=\"M0 0h24v24H0V0z\" fill=\"none\"/>\n",
              "    <path d=\"M18.56 5.44l.94 2.06.94-2.06 2.06-.94-2.06-.94-.94-2.06-.94 2.06-2.06.94zm-11 1L8.5 8.5l.94-2.06 2.06-.94-2.06-.94L8.5 2.5l-.94 2.06-2.06.94zm10 10l.94 2.06.94-2.06 2.06-.94-2.06-.94-.94-2.06-.94 2.06-2.06.94z\"/><path d=\"M17.41 7.96l-1.37-1.37c-.4-.4-.92-.59-1.43-.59-.52 0-1.04.2-1.43.59L10.3 9.45l-7.72 7.72c-.78.78-.78 2.05 0 2.83L4 21.41c.39.39.9.59 1.41.59.51 0 1.02-.2 1.41-.59l7.78-7.78 2.81-2.81c.8-.78.8-2.07 0-2.86zM5.41 20L4 18.59l7.72-7.72 1.47 1.35L5.41 20z\"/>\n",
              "  </svg>\n",
              "      </button>\n",
              "      \n",
              "  <style>\n",
              "    .colab-df-container {\n",
              "      display:flex;\n",
              "      flex-wrap:wrap;\n",
              "      gap: 12px;\n",
              "    }\n",
              "\n",
              "    .colab-df-convert {\n",
              "      background-color: #E8F0FE;\n",
              "      border: none;\n",
              "      border-radius: 50%;\n",
              "      cursor: pointer;\n",
              "      display: none;\n",
              "      fill: #1967D2;\n",
              "      height: 32px;\n",
              "      padding: 0 0 0 0;\n",
              "      width: 32px;\n",
              "    }\n",
              "\n",
              "    .colab-df-convert:hover {\n",
              "      background-color: #E2EBFA;\n",
              "      box-shadow: 0px 1px 2px rgba(60, 64, 67, 0.3), 0px 1px 3px 1px rgba(60, 64, 67, 0.15);\n",
              "      fill: #174EA6;\n",
              "    }\n",
              "\n",
              "    [theme=dark] .colab-df-convert {\n",
              "      background-color: #3B4455;\n",
              "      fill: #D2E3FC;\n",
              "    }\n",
              "\n",
              "    [theme=dark] .colab-df-convert:hover {\n",
              "      background-color: #434B5C;\n",
              "      box-shadow: 0px 1px 3px 1px rgba(0, 0, 0, 0.15);\n",
              "      filter: drop-shadow(0px 1px 2px rgba(0, 0, 0, 0.3));\n",
              "      fill: #FFFFFF;\n",
              "    }\n",
              "  </style>\n",
              "\n",
              "      <script>\n",
              "        const buttonEl =\n",
              "          document.querySelector('#df-3076ca4a-38ea-492c-819a-d26a9ce862d3 button.colab-df-convert');\n",
              "        buttonEl.style.display =\n",
              "          google.colab.kernel.accessAllowed ? 'block' : 'none';\n",
              "\n",
              "        async function convertToInteractive(key) {\n",
              "          const element = document.querySelector('#df-3076ca4a-38ea-492c-819a-d26a9ce862d3');\n",
              "          const dataTable =\n",
              "            await google.colab.kernel.invokeFunction('convertToInteractive',\n",
              "                                                     [key], {});\n",
              "          if (!dataTable) return;\n",
              "\n",
              "          const docLinkHtml = 'Like what you see? Visit the ' +\n",
              "            '<a target=\"_blank\" href=https://colab.research.google.com/notebooks/data_table.ipynb>data table notebook</a>'\n",
              "            + ' to learn more about interactive tables.';\n",
              "          element.innerHTML = '';\n",
              "          dataTable['output_type'] = 'display_data';\n",
              "          await google.colab.output.renderOutput(dataTable, element);\n",
              "          const docLink = document.createElement('div');\n",
              "          docLink.innerHTML = docLinkHtml;\n",
              "          element.appendChild(docLink);\n",
              "        }\n",
              "      </script>\n",
              "    </div>\n",
              "  </div>\n",
              "  "
            ],
            "text/plain": [
              "   sepal length  sepal width  petal length  petal width       target\n",
              "0           5.1          3.5           1.4          0.2  Iris-setosa\n",
              "1           4.9          3.0           1.4          0.2  Iris-setosa\n",
              "2           4.7          3.2           1.3          0.2  Iris-setosa\n",
              "3           4.6          3.1           1.5          0.2  Iris-setosa\n",
              "4           5.0          3.6           1.4          0.2  Iris-setosa"
            ]
          },
          "metadata": {},
          "execution_count": 9
        }
      ]
    },
    {
      "cell_type": "code",
      "source": [
        "df.isnull().sum().sum()"
      ],
      "metadata": {
        "colab": {
          "base_uri": "https://localhost:8080/"
        },
        "id": "ONx9XgOZPs9e",
        "outputId": "2f09694d-496b-4ae2-97ae-de4d4bcafea0"
      },
      "execution_count": 10,
      "outputs": [
        {
          "output_type": "execute_result",
          "data": {
            "text/plain": [
              "0"
            ]
          },
          "metadata": {},
          "execution_count": 10
        }
      ]
    },
    {
      "cell_type": "code",
      "source": [
        "from sklearn.model_selection import train_test_split\n",
        "from sklearn.preprocessing import StandardScaler\n",
        "from sklearn.svm import SVC\n",
        "from sklearn.metrics import accuracy_score, confusion_matrix, roc_auc_score, ConfusionMatrixDisplay, precision_score, recall_score, f1_score, classification_report, roc_curve, plot_roc_curve, auc, precision_recall_curve, plot_precision_recall_curve, average_precision_score\n",
        "from sklearn.model_selection import cross_val_score"
      ],
      "metadata": {
        "id": "lkreEtCGP30H"
      },
      "execution_count": 11,
      "outputs": []
    },
    {
      "cell_type": "code",
      "source": [
        "df['target'] = df['target'].map({'Iris-setosa': 0, 'Iris-versicolor': 1,'Iris-virginica':2})\n",
        "X = df.drop(columns = ['target'])\n",
        "y = df['target'].values"
      ],
      "metadata": {
        "id": "NAuANBsEP60p"
      },
      "execution_count": 12,
      "outputs": []
    },
    {
      "cell_type": "code",
      "source": [
        "y"
      ],
      "metadata": {
        "colab": {
          "base_uri": "https://localhost:8080/"
        },
        "id": "fCcm_yOfP9gO",
        "outputId": "64a49baa-775c-4bab-e067-689d0422912f"
      },
      "execution_count": 13,
      "outputs": [
        {
          "output_type": "execute_result",
          "data": {
            "text/plain": [
              "array([0, 0, 0, 0, 0, 0, 0, 0, 0, 0, 0, 0, 0, 0, 0, 0, 0, 0, 0, 0, 0, 0,\n",
              "       0, 0, 0, 0, 0, 0, 0, 0, 0, 0, 0, 0, 0, 0, 0, 0, 0, 0, 0, 0, 0, 0,\n",
              "       0, 0, 0, 0, 0, 0, 1, 1, 1, 1, 1, 1, 1, 1, 1, 1, 1, 1, 1, 1, 1, 1,\n",
              "       1, 1, 1, 1, 1, 1, 1, 1, 1, 1, 1, 1, 1, 1, 1, 1, 1, 1, 1, 1, 1, 1,\n",
              "       1, 1, 1, 1, 1, 1, 1, 1, 1, 1, 1, 1, 2, 2, 2, 2, 2, 2, 2, 2, 2, 2,\n",
              "       2, 2, 2, 2, 2, 2, 2, 2, 2, 2, 2, 2, 2, 2, 2, 2, 2, 2, 2, 2, 2, 2,\n",
              "       2, 2, 2, 2, 2, 2, 2, 2, 2, 2, 2, 2, 2, 2, 2, 2, 2, 2])"
            ]
          },
          "metadata": {},
          "execution_count": 13
        }
      ]
    },
    {
      "cell_type": "code",
      "source": [
        "Scaler = StandardScaler()\n",
        "X = Scaler.fit_transform(X)"
      ],
      "metadata": {
        "id": "553KTpPoP_s7"
      },
      "execution_count": 14,
      "outputs": []
    },
    {
      "cell_type": "code",
      "source": [
        "X"
      ],
      "metadata": {
        "colab": {
          "base_uri": "https://localhost:8080/"
        },
        "id": "JzAEshfUQBvp",
        "outputId": "34f6e386-c30d-4929-989f-2ee8fe793266"
      },
      "execution_count": 15,
      "outputs": [
        {
          "output_type": "execute_result",
          "data": {
            "text/plain": [
              "array([[-9.00681170e-01,  1.03205722e+00, -1.34127240e+00,\n",
              "        -1.31297673e+00],\n",
              "       [-1.14301691e+00, -1.24957601e-01, -1.34127240e+00,\n",
              "        -1.31297673e+00],\n",
              "       [-1.38535265e+00,  3.37848329e-01, -1.39813811e+00,\n",
              "        -1.31297673e+00],\n",
              "       [-1.50652052e+00,  1.06445364e-01, -1.28440670e+00,\n",
              "        -1.31297673e+00],\n",
              "       [-1.02184904e+00,  1.26346019e+00, -1.34127240e+00,\n",
              "        -1.31297673e+00],\n",
              "       [-5.37177559e-01,  1.95766909e+00, -1.17067529e+00,\n",
              "        -1.05003079e+00],\n",
              "       [-1.50652052e+00,  8.00654259e-01, -1.34127240e+00,\n",
              "        -1.18150376e+00],\n",
              "       [-1.02184904e+00,  8.00654259e-01, -1.28440670e+00,\n",
              "        -1.31297673e+00],\n",
              "       [-1.74885626e+00, -3.56360566e-01, -1.34127240e+00,\n",
              "        -1.31297673e+00],\n",
              "       [-1.14301691e+00,  1.06445364e-01, -1.28440670e+00,\n",
              "        -1.44444970e+00],\n",
              "       [-5.37177559e-01,  1.49486315e+00, -1.28440670e+00,\n",
              "        -1.31297673e+00],\n",
              "       [-1.26418478e+00,  8.00654259e-01, -1.22754100e+00,\n",
              "        -1.31297673e+00],\n",
              "       [-1.26418478e+00, -1.24957601e-01, -1.34127240e+00,\n",
              "        -1.44444970e+00],\n",
              "       [-1.87002413e+00, -1.24957601e-01, -1.51186952e+00,\n",
              "        -1.44444970e+00],\n",
              "       [-5.25060772e-02,  2.18907205e+00, -1.45500381e+00,\n",
              "        -1.31297673e+00],\n",
              "       [-1.73673948e-01,  3.11468391e+00, -1.28440670e+00,\n",
              "        -1.05003079e+00],\n",
              "       [-5.37177559e-01,  1.95766909e+00, -1.39813811e+00,\n",
              "        -1.05003079e+00],\n",
              "       [-9.00681170e-01,  1.03205722e+00, -1.34127240e+00,\n",
              "        -1.18150376e+00],\n",
              "       [-1.73673948e-01,  1.72626612e+00, -1.17067529e+00,\n",
              "        -1.18150376e+00],\n",
              "       [-9.00681170e-01,  1.72626612e+00, -1.28440670e+00,\n",
              "        -1.18150376e+00],\n",
              "       [-5.37177559e-01,  8.00654259e-01, -1.17067529e+00,\n",
              "        -1.31297673e+00],\n",
              "       [-9.00681170e-01,  1.49486315e+00, -1.28440670e+00,\n",
              "        -1.05003079e+00],\n",
              "       [-1.50652052e+00,  1.26346019e+00, -1.56873522e+00,\n",
              "        -1.31297673e+00],\n",
              "       [-9.00681170e-01,  5.69251294e-01, -1.17067529e+00,\n",
              "        -9.18557817e-01],\n",
              "       [-1.26418478e+00,  8.00654259e-01, -1.05694388e+00,\n",
              "        -1.31297673e+00],\n",
              "       [-1.02184904e+00, -1.24957601e-01, -1.22754100e+00,\n",
              "        -1.31297673e+00],\n",
              "       [-1.02184904e+00,  8.00654259e-01, -1.22754100e+00,\n",
              "        -1.05003079e+00],\n",
              "       [-7.79513300e-01,  1.03205722e+00, -1.28440670e+00,\n",
              "        -1.31297673e+00],\n",
              "       [-7.79513300e-01,  8.00654259e-01, -1.34127240e+00,\n",
              "        -1.31297673e+00],\n",
              "       [-1.38535265e+00,  3.37848329e-01, -1.22754100e+00,\n",
              "        -1.31297673e+00],\n",
              "       [-1.26418478e+00,  1.06445364e-01, -1.22754100e+00,\n",
              "        -1.31297673e+00],\n",
              "       [-5.37177559e-01,  8.00654259e-01, -1.28440670e+00,\n",
              "        -1.05003079e+00],\n",
              "       [-7.79513300e-01,  2.42047502e+00, -1.28440670e+00,\n",
              "        -1.44444970e+00],\n",
              "       [-4.16009689e-01,  2.65187798e+00, -1.34127240e+00,\n",
              "        -1.31297673e+00],\n",
              "       [-1.14301691e+00,  1.06445364e-01, -1.28440670e+00,\n",
              "        -1.44444970e+00],\n",
              "       [-1.02184904e+00,  3.37848329e-01, -1.45500381e+00,\n",
              "        -1.31297673e+00],\n",
              "       [-4.16009689e-01,  1.03205722e+00, -1.39813811e+00,\n",
              "        -1.31297673e+00],\n",
              "       [-1.14301691e+00,  1.06445364e-01, -1.28440670e+00,\n",
              "        -1.44444970e+00],\n",
              "       [-1.74885626e+00, -1.24957601e-01, -1.39813811e+00,\n",
              "        -1.31297673e+00],\n",
              "       [-9.00681170e-01,  8.00654259e-01, -1.28440670e+00,\n",
              "        -1.31297673e+00],\n",
              "       [-1.02184904e+00,  1.03205722e+00, -1.39813811e+00,\n",
              "        -1.18150376e+00],\n",
              "       [-1.62768839e+00, -1.74477836e+00, -1.39813811e+00,\n",
              "        -1.18150376e+00],\n",
              "       [-1.74885626e+00,  3.37848329e-01, -1.39813811e+00,\n",
              "        -1.31297673e+00],\n",
              "       [-1.02184904e+00,  1.03205722e+00, -1.22754100e+00,\n",
              "        -7.87084847e-01],\n",
              "       [-9.00681170e-01,  1.72626612e+00, -1.05694388e+00,\n",
              "        -1.05003079e+00],\n",
              "       [-1.26418478e+00, -1.24957601e-01, -1.34127240e+00,\n",
              "        -1.18150376e+00],\n",
              "       [-9.00681170e-01,  1.72626612e+00, -1.22754100e+00,\n",
              "        -1.31297673e+00],\n",
              "       [-1.50652052e+00,  3.37848329e-01, -1.34127240e+00,\n",
              "        -1.31297673e+00],\n",
              "       [-6.58345429e-01,  1.49486315e+00, -1.28440670e+00,\n",
              "        -1.31297673e+00],\n",
              "       [-1.02184904e+00,  5.69251294e-01, -1.34127240e+00,\n",
              "        -1.31297673e+00],\n",
              "       [ 1.40150837e+00,  3.37848329e-01,  5.35295827e-01,\n",
              "         2.64698913e-01],\n",
              "       [ 6.74501145e-01,  3.37848329e-01,  4.21564419e-01,\n",
              "         3.96171883e-01],\n",
              "       [ 1.28034050e+00,  1.06445364e-01,  6.49027235e-01,\n",
              "         3.96171883e-01],\n",
              "       [-4.16009689e-01, -1.74477836e+00,  1.37235899e-01,\n",
              "         1.33225943e-01],\n",
              "       [ 7.95669016e-01, -5.87763531e-01,  4.78430123e-01,\n",
              "         3.96171883e-01],\n",
              "       [-1.73673948e-01, -5.87763531e-01,  4.21564419e-01,\n",
              "         1.33225943e-01],\n",
              "       [ 5.53333275e-01,  5.69251294e-01,  5.35295827e-01,\n",
              "         5.27644853e-01],\n",
              "       [-1.14301691e+00, -1.51337539e+00, -2.60824029e-01,\n",
              "        -2.61192967e-01],\n",
              "       [ 9.16836886e-01, -3.56360566e-01,  4.78430123e-01,\n",
              "         1.33225943e-01],\n",
              "       [-7.79513300e-01, -8.19166497e-01,  8.03701950e-02,\n",
              "         2.64698913e-01],\n",
              "       [-1.02184904e+00, -2.43898725e+00, -1.47092621e-01,\n",
              "        -2.61192967e-01],\n",
              "       [ 6.86617933e-02, -1.24957601e-01,  2.50967307e-01,\n",
              "         3.96171883e-01],\n",
              "       [ 1.89829664e-01, -1.97618132e+00,  1.37235899e-01,\n",
              "        -2.61192967e-01],\n",
              "       [ 3.10997534e-01, -3.56360566e-01,  5.35295827e-01,\n",
              "         2.64698913e-01],\n",
              "       [-2.94841818e-01, -3.56360566e-01, -9.02269170e-02,\n",
              "         1.33225943e-01],\n",
              "       [ 1.03800476e+00,  1.06445364e-01,  3.64698715e-01,\n",
              "         2.64698913e-01],\n",
              "       [-2.94841818e-01, -1.24957601e-01,  4.21564419e-01,\n",
              "         3.96171883e-01],\n",
              "       [-5.25060772e-02, -8.19166497e-01,  1.94101603e-01,\n",
              "        -2.61192967e-01],\n",
              "       [ 4.32165405e-01, -1.97618132e+00,  4.21564419e-01,\n",
              "         3.96171883e-01],\n",
              "       [-2.94841818e-01, -1.28197243e+00,  8.03701950e-02,\n",
              "        -1.29719997e-01],\n",
              "       [ 6.86617933e-02,  3.37848329e-01,  5.92161531e-01,\n",
              "         7.90590793e-01],\n",
              "       [ 3.10997534e-01, -5.87763531e-01,  1.37235899e-01,\n",
              "         1.33225943e-01],\n",
              "       [ 5.53333275e-01, -1.28197243e+00,  6.49027235e-01,\n",
              "         3.96171883e-01],\n",
              "       [ 3.10997534e-01, -5.87763531e-01,  5.35295827e-01,\n",
              "         1.75297293e-03],\n",
              "       [ 6.74501145e-01, -3.56360566e-01,  3.07833011e-01,\n",
              "         1.33225943e-01],\n",
              "       [ 9.16836886e-01, -1.24957601e-01,  3.64698715e-01,\n",
              "         2.64698913e-01],\n",
              "       [ 1.15917263e+00, -5.87763531e-01,  5.92161531e-01,\n",
              "         2.64698913e-01],\n",
              "       [ 1.03800476e+00, -1.24957601e-01,  7.05892939e-01,\n",
              "         6.59117823e-01],\n",
              "       [ 1.89829664e-01, -3.56360566e-01,  4.21564419e-01,\n",
              "         3.96171883e-01],\n",
              "       [-1.73673948e-01, -1.05056946e+00, -1.47092621e-01,\n",
              "        -2.61192967e-01],\n",
              "       [-4.16009689e-01, -1.51337539e+00,  2.35044910e-02,\n",
              "        -1.29719997e-01],\n",
              "       [-4.16009689e-01, -1.51337539e+00, -3.33612130e-02,\n",
              "        -2.61192967e-01],\n",
              "       [-5.25060772e-02, -8.19166497e-01,  8.03701950e-02,\n",
              "         1.75297293e-03],\n",
              "       [ 1.89829664e-01, -8.19166497e-01,  7.62758643e-01,\n",
              "         5.27644853e-01],\n",
              "       [-5.37177559e-01, -1.24957601e-01,  4.21564419e-01,\n",
              "         3.96171883e-01],\n",
              "       [ 1.89829664e-01,  8.00654259e-01,  4.21564419e-01,\n",
              "         5.27644853e-01],\n",
              "       [ 1.03800476e+00,  1.06445364e-01,  5.35295827e-01,\n",
              "         3.96171883e-01],\n",
              "       [ 5.53333275e-01, -1.74477836e+00,  3.64698715e-01,\n",
              "         1.33225943e-01],\n",
              "       [-2.94841818e-01, -1.24957601e-01,  1.94101603e-01,\n",
              "         1.33225943e-01],\n",
              "       [-4.16009689e-01, -1.28197243e+00,  1.37235899e-01,\n",
              "         1.33225943e-01],\n",
              "       [-4.16009689e-01, -1.05056946e+00,  3.64698715e-01,\n",
              "         1.75297293e-03],\n",
              "       [ 3.10997534e-01, -1.24957601e-01,  4.78430123e-01,\n",
              "         2.64698913e-01],\n",
              "       [-5.25060772e-02, -1.05056946e+00,  1.37235899e-01,\n",
              "         1.75297293e-03],\n",
              "       [-1.02184904e+00, -1.74477836e+00, -2.60824029e-01,\n",
              "        -2.61192967e-01],\n",
              "       [-2.94841818e-01, -8.19166497e-01,  2.50967307e-01,\n",
              "         1.33225943e-01],\n",
              "       [-1.73673948e-01, -1.24957601e-01,  2.50967307e-01,\n",
              "         1.75297293e-03],\n",
              "       [-1.73673948e-01, -3.56360566e-01,  2.50967307e-01,\n",
              "         1.33225943e-01],\n",
              "       [ 4.32165405e-01, -3.56360566e-01,  3.07833011e-01,\n",
              "         1.33225943e-01],\n",
              "       [-9.00681170e-01, -1.28197243e+00, -4.31421141e-01,\n",
              "        -1.29719997e-01],\n",
              "       [-1.73673948e-01, -5.87763531e-01,  1.94101603e-01,\n",
              "         1.33225943e-01],\n",
              "       [ 5.53333275e-01,  5.69251294e-01,  1.27454998e+00,\n",
              "         1.71090158e+00],\n",
              "       [-5.25060772e-02, -8.19166497e-01,  7.62758643e-01,\n",
              "         9.22063763e-01],\n",
              "       [ 1.52267624e+00, -1.24957601e-01,  1.21768427e+00,\n",
              "         1.18500970e+00],\n",
              "       [ 5.53333275e-01, -3.56360566e-01,  1.04708716e+00,\n",
              "         7.90590793e-01],\n",
              "       [ 7.95669016e-01, -1.24957601e-01,  1.16081857e+00,\n",
              "         1.31648267e+00],\n",
              "       [ 2.12851559e+00, -1.24957601e-01,  1.61574420e+00,\n",
              "         1.18500970e+00],\n",
              "       [-1.14301691e+00, -1.28197243e+00,  4.21564419e-01,\n",
              "         6.59117823e-01],\n",
              "       [ 1.76501198e+00, -3.56360566e-01,  1.44514709e+00,\n",
              "         7.90590793e-01],\n",
              "       [ 1.03800476e+00, -1.28197243e+00,  1.16081857e+00,\n",
              "         7.90590793e-01],\n",
              "       [ 1.64384411e+00,  1.26346019e+00,  1.33141568e+00,\n",
              "         1.71090158e+00],\n",
              "       [ 7.95669016e-01,  3.37848329e-01,  7.62758643e-01,\n",
              "         1.05353673e+00],\n",
              "       [ 6.74501145e-01, -8.19166497e-01,  8.76490051e-01,\n",
              "         9.22063763e-01],\n",
              "       [ 1.15917263e+00, -1.24957601e-01,  9.90221459e-01,\n",
              "         1.18500970e+00],\n",
              "       [-1.73673948e-01, -1.28197243e+00,  7.05892939e-01,\n",
              "         1.05353673e+00],\n",
              "       [-5.25060772e-02, -5.87763531e-01,  7.62758643e-01,\n",
              "         1.57942861e+00],\n",
              "       [ 6.74501145e-01,  3.37848329e-01,  8.76490051e-01,\n",
              "         1.44795564e+00],\n",
              "       [ 7.95669016e-01, -1.24957601e-01,  9.90221459e-01,\n",
              "         7.90590793e-01],\n",
              "       [ 2.24968346e+00,  1.72626612e+00,  1.67260991e+00,\n",
              "         1.31648267e+00],\n",
              "       [ 2.24968346e+00, -1.05056946e+00,  1.78634131e+00,\n",
              "         1.44795564e+00],\n",
              "       [ 1.89829664e-01, -1.97618132e+00,  7.05892939e-01,\n",
              "         3.96171883e-01],\n",
              "       [ 1.28034050e+00,  3.37848329e-01,  1.10395287e+00,\n",
              "         1.44795564e+00],\n",
              "       [-2.94841818e-01, -5.87763531e-01,  6.49027235e-01,\n",
              "         1.05353673e+00],\n",
              "       [ 2.24968346e+00, -5.87763531e-01,  1.67260991e+00,\n",
              "         1.05353673e+00],\n",
              "       [ 5.53333275e-01, -8.19166497e-01,  6.49027235e-01,\n",
              "         7.90590793e-01],\n",
              "       [ 1.03800476e+00,  5.69251294e-01,  1.10395287e+00,\n",
              "         1.18500970e+00],\n",
              "       [ 1.64384411e+00,  3.37848329e-01,  1.27454998e+00,\n",
              "         7.90590793e-01],\n",
              "       [ 4.32165405e-01, -5.87763531e-01,  5.92161531e-01,\n",
              "         7.90590793e-01],\n",
              "       [ 3.10997534e-01, -1.24957601e-01,  6.49027235e-01,\n",
              "         7.90590793e-01],\n",
              "       [ 6.74501145e-01, -5.87763531e-01,  1.04708716e+00,\n",
              "         1.18500970e+00],\n",
              "       [ 1.64384411e+00, -1.24957601e-01,  1.16081857e+00,\n",
              "         5.27644853e-01],\n",
              "       [ 1.88617985e+00, -5.87763531e-01,  1.33141568e+00,\n",
              "         9.22063763e-01],\n",
              "       [ 2.49201920e+00,  1.72626612e+00,  1.50201279e+00,\n",
              "         1.05353673e+00],\n",
              "       [ 6.74501145e-01, -5.87763531e-01,  1.04708716e+00,\n",
              "         1.31648267e+00],\n",
              "       [ 5.53333275e-01, -5.87763531e-01,  7.62758643e-01,\n",
              "         3.96171883e-01],\n",
              "       [ 3.10997534e-01, -1.05056946e+00,  1.04708716e+00,\n",
              "         2.64698913e-01],\n",
              "       [ 2.24968346e+00, -1.24957601e-01,  1.33141568e+00,\n",
              "         1.44795564e+00],\n",
              "       [ 5.53333275e-01,  8.00654259e-01,  1.04708716e+00,\n",
              "         1.57942861e+00],\n",
              "       [ 6.74501145e-01,  1.06445364e-01,  9.90221459e-01,\n",
              "         7.90590793e-01],\n",
              "       [ 1.89829664e-01, -1.24957601e-01,  5.92161531e-01,\n",
              "         7.90590793e-01],\n",
              "       [ 1.28034050e+00,  1.06445364e-01,  9.33355755e-01,\n",
              "         1.18500970e+00],\n",
              "       [ 1.03800476e+00,  1.06445364e-01,  1.04708716e+00,\n",
              "         1.57942861e+00],\n",
              "       [ 1.28034050e+00,  1.06445364e-01,  7.62758643e-01,\n",
              "         1.44795564e+00],\n",
              "       [-5.25060772e-02, -8.19166497e-01,  7.62758643e-01,\n",
              "         9.22063763e-01],\n",
              "       [ 1.15917263e+00,  3.37848329e-01,  1.21768427e+00,\n",
              "         1.44795564e+00],\n",
              "       [ 1.03800476e+00,  5.69251294e-01,  1.10395287e+00,\n",
              "         1.71090158e+00],\n",
              "       [ 1.03800476e+00, -1.24957601e-01,  8.19624347e-01,\n",
              "         1.44795564e+00],\n",
              "       [ 5.53333275e-01, -1.28197243e+00,  7.05892939e-01,\n",
              "         9.22063763e-01],\n",
              "       [ 7.95669016e-01, -1.24957601e-01,  8.19624347e-01,\n",
              "         1.05353673e+00],\n",
              "       [ 4.32165405e-01,  8.00654259e-01,  9.33355755e-01,\n",
              "         1.44795564e+00],\n",
              "       [ 6.86617933e-02, -1.24957601e-01,  7.62758643e-01,\n",
              "         7.90590793e-01]])"
            ]
          },
          "metadata": {},
          "execution_count": 15
        }
      ]
    },
    {
      "cell_type": "code",
      "source": [
        "X_train, X_test, y_train, y_test = train_test_split(X, y, test_size=0.2, random_state=42)"
      ],
      "metadata": {
        "id": "pxcTp-fEQF8m"
      },
      "execution_count": 16,
      "outputs": []
    },
    {
      "cell_type": "code",
      "source": [
        "X_train.shape, X_test.shape, y_train.shape, y_test.shape"
      ],
      "metadata": {
        "colab": {
          "base_uri": "https://localhost:8080/"
        },
        "id": "xpDK35icQJz4",
        "outputId": "80c2ca40-c59e-4eb8-97d3-fda2a5a0da58"
      },
      "execution_count": 17,
      "outputs": [
        {
          "output_type": "execute_result",
          "data": {
            "text/plain": [
              "((120, 4), (30, 4), (120,), (30,))"
            ]
          },
          "metadata": {},
          "execution_count": 17
        }
      ]
    },
    {
      "cell_type": "markdown",
      "source": [
        "# SVM"
      ],
      "metadata": {
        "id": "IVpVGbhvehhU"
      }
    },
    {
      "cell_type": "code",
      "source": [
        "from sklearn.model_selection import KFold"
      ],
      "metadata": {
        "id": "ldYEid1M0OFO"
      },
      "execution_count": 18,
      "outputs": []
    },
    {
      "cell_type": "code",
      "source": [
        "model = SVC()#KNeighborsClassifier()#SVC#RandomForestClassifier()#AdaBoostClassifier()\n",
        "model.fit(X_train, y_train)\n",
        "y_pred = model.predict(X_test)\n",
        "score = accuracy_score(y_test, y_pred)\n",
        "precision = precision_score(y_test, y_pred,average=\"micro\")\n",
        "recall = recall_score(y_test, y_pred,average=\"micro\")\n",
        "cm = confusion_matrix(y_test, y_pred)\n",
        "cv_score = cross_val_score(model, X_train, y_train, cv = 6)\n",
        "kfold_validation=KFold(10)\n",
        "k_fold =cross_val_score(model,X,y,cv=kfold_validation)\n",
        "print ('Train score is', score)\n",
        "print ('--')\n",
        "print ('Precision score is ', precision)\n",
        "print ('--')\n",
        "print ('Recall Score is ', recall)\n",
        "print ('--')\n",
        "print ('Confusion Matrix\\n\\n', cm)\n",
        "print ('--')\n",
        "print ('CV score is', cv_score)\n",
        "print(np.mean(cv_score))\n",
        "print ('K fold score is', k_fold)\n",
        "print(np.mean(k_fold))"
      ],
      "metadata": {
        "colab": {
          "base_uri": "https://localhost:8080/"
        },
        "id": "mkTY9D6zQN08",
        "outputId": "1efa2bd5-981c-4c45-b6f0-78f34430693e"
      },
      "execution_count": 19,
      "outputs": [
        {
          "output_type": "stream",
          "name": "stdout",
          "text": [
            "Train score is 1.0\n",
            "--\n",
            "Precision score is  1.0\n",
            "--\n",
            "Recall Score is  1.0\n",
            "--\n",
            "Confusion Matrix\n",
            "\n",
            " [[10  0  0]\n",
            " [ 0  9  0]\n",
            " [ 0  0 11]]\n",
            "--\n",
            "CV score is [0.95 1.   0.95 0.9  1.   0.95]\n",
            "0.9583333333333334\n",
            "K fold score is [1.         1.         1.         1.         0.93333333 0.86666667\n",
            " 1.         0.86666667 0.86666667 0.93333333]\n",
            "0.9466666666666667\n"
          ]
        }
      ]
    },
    {
      "cell_type": "markdown",
      "source": [
        "# LDA"
      ],
      "metadata": {
        "id": "yc_LwnM3ee-k"
      }
    },
    {
      "cell_type": "code",
      "source": [
        "from sklearn.discriminant_analysis import LinearDiscriminantAnalysis as LDA\n",
        "df = pd.read_csv('https://raw.githubusercontent.com/philsaurabh/Machine-Learning-Tutorials/main/iris.csv')\n",
        "features = ['sepal length', 'sepal width', 'petal length', 'petal width']\n",
        "# Separating out the features\n",
        "x = df.loc[:, features].values\n",
        "# Separating out the target\n",
        "y = df.loc[:,['target']].values\n",
        "# Standardizing the features\n",
        "X = StandardScaler().fit_transform(X)\n",
        "y=y.ravel()\n",
        "lda = LDA(n_components=2)# <= min(n_classes - 1, n_features)=(min(1,something))\n",
        "reduced_data = lda.fit(X,y).transform(X)\n",
        "principalDf = pd.DataFrame(data = reduced_data, columns = ['PC-1','PC-2'])\n",
        "# Adding lables\n",
        "finalDf = pd.concat([principalDf, df[['target']]], axis = 1)\n",
        "X_f = finalDf.drop(columns = ['target']).values\n",
        "# Separating out the target\n",
        "y_f = finalDf.loc[:,['target']].values"
      ],
      "metadata": {
        "id": "iuyJeCmUS5r0"
      },
      "execution_count": 24,
      "outputs": []
    },
    {
      "cell_type": "code",
      "source": [
        "finalDf.head()"
      ],
      "metadata": {
        "colab": {
          "base_uri": "https://localhost:8080/",
          "height": 206
        },
        "id": "ObwhAENoVvBh",
        "outputId": "253eaef9-349f-4f5f-9923-29e929b4c7d4"
      },
      "execution_count": 25,
      "outputs": [
        {
          "output_type": "execute_result",
          "data": {
            "text/html": [
              "\n",
              "  <div id=\"df-598a4255-1700-42e9-b524-41db206120ef\">\n",
              "    <div class=\"colab-df-container\">\n",
              "      <div>\n",
              "<style scoped>\n",
              "    .dataframe tbody tr th:only-of-type {\n",
              "        vertical-align: middle;\n",
              "    }\n",
              "\n",
              "    .dataframe tbody tr th {\n",
              "        vertical-align: top;\n",
              "    }\n",
              "\n",
              "    .dataframe thead th {\n",
              "        text-align: right;\n",
              "    }\n",
              "</style>\n",
              "<table border=\"1\" class=\"dataframe\">\n",
              "  <thead>\n",
              "    <tr style=\"text-align: right;\">\n",
              "      <th></th>\n",
              "      <th>PC-1</th>\n",
              "      <th>PC-2</th>\n",
              "      <th>target</th>\n",
              "    </tr>\n",
              "  </thead>\n",
              "  <tbody>\n",
              "    <tr>\n",
              "      <th>0</th>\n",
              "      <td>-10.036763</td>\n",
              "      <td>-0.451330</td>\n",
              "      <td>Iris-setosa</td>\n",
              "    </tr>\n",
              "    <tr>\n",
              "      <th>1</th>\n",
              "      <td>-9.172930</td>\n",
              "      <td>-1.477234</td>\n",
              "      <td>Iris-setosa</td>\n",
              "    </tr>\n",
              "    <tr>\n",
              "      <th>2</th>\n",
              "      <td>-9.480989</td>\n",
              "      <td>-0.979693</td>\n",
              "      <td>Iris-setosa</td>\n",
              "    </tr>\n",
              "    <tr>\n",
              "      <th>3</th>\n",
              "      <td>-8.818119</td>\n",
              "      <td>-1.408602</td>\n",
              "      <td>Iris-setosa</td>\n",
              "    </tr>\n",
              "    <tr>\n",
              "      <th>4</th>\n",
              "      <td>-9.960200</td>\n",
              "      <td>-0.112546</td>\n",
              "      <td>Iris-setosa</td>\n",
              "    </tr>\n",
              "  </tbody>\n",
              "</table>\n",
              "</div>\n",
              "      <button class=\"colab-df-convert\" onclick=\"convertToInteractive('df-598a4255-1700-42e9-b524-41db206120ef')\"\n",
              "              title=\"Convert this dataframe to an interactive table.\"\n",
              "              style=\"display:none;\">\n",
              "        \n",
              "  <svg xmlns=\"http://www.w3.org/2000/svg\" height=\"24px\"viewBox=\"0 0 24 24\"\n",
              "       width=\"24px\">\n",
              "    <path d=\"M0 0h24v24H0V0z\" fill=\"none\"/>\n",
              "    <path d=\"M18.56 5.44l.94 2.06.94-2.06 2.06-.94-2.06-.94-.94-2.06-.94 2.06-2.06.94zm-11 1L8.5 8.5l.94-2.06 2.06-.94-2.06-.94L8.5 2.5l-.94 2.06-2.06.94zm10 10l.94 2.06.94-2.06 2.06-.94-2.06-.94-.94-2.06-.94 2.06-2.06.94z\"/><path d=\"M17.41 7.96l-1.37-1.37c-.4-.4-.92-.59-1.43-.59-.52 0-1.04.2-1.43.59L10.3 9.45l-7.72 7.72c-.78.78-.78 2.05 0 2.83L4 21.41c.39.39.9.59 1.41.59.51 0 1.02-.2 1.41-.59l7.78-7.78 2.81-2.81c.8-.78.8-2.07 0-2.86zM5.41 20L4 18.59l7.72-7.72 1.47 1.35L5.41 20z\"/>\n",
              "  </svg>\n",
              "      </button>\n",
              "      \n",
              "  <style>\n",
              "    .colab-df-container {\n",
              "      display:flex;\n",
              "      flex-wrap:wrap;\n",
              "      gap: 12px;\n",
              "    }\n",
              "\n",
              "    .colab-df-convert {\n",
              "      background-color: #E8F0FE;\n",
              "      border: none;\n",
              "      border-radius: 50%;\n",
              "      cursor: pointer;\n",
              "      display: none;\n",
              "      fill: #1967D2;\n",
              "      height: 32px;\n",
              "      padding: 0 0 0 0;\n",
              "      width: 32px;\n",
              "    }\n",
              "\n",
              "    .colab-df-convert:hover {\n",
              "      background-color: #E2EBFA;\n",
              "      box-shadow: 0px 1px 2px rgba(60, 64, 67, 0.3), 0px 1px 3px 1px rgba(60, 64, 67, 0.15);\n",
              "      fill: #174EA6;\n",
              "    }\n",
              "\n",
              "    [theme=dark] .colab-df-convert {\n",
              "      background-color: #3B4455;\n",
              "      fill: #D2E3FC;\n",
              "    }\n",
              "\n",
              "    [theme=dark] .colab-df-convert:hover {\n",
              "      background-color: #434B5C;\n",
              "      box-shadow: 0px 1px 3px 1px rgba(0, 0, 0, 0.15);\n",
              "      filter: drop-shadow(0px 1px 2px rgba(0, 0, 0, 0.3));\n",
              "      fill: #FFFFFF;\n",
              "    }\n",
              "  </style>\n",
              "\n",
              "      <script>\n",
              "        const buttonEl =\n",
              "          document.querySelector('#df-598a4255-1700-42e9-b524-41db206120ef button.colab-df-convert');\n",
              "        buttonEl.style.display =\n",
              "          google.colab.kernel.accessAllowed ? 'block' : 'none';\n",
              "\n",
              "        async function convertToInteractive(key) {\n",
              "          const element = document.querySelector('#df-598a4255-1700-42e9-b524-41db206120ef');\n",
              "          const dataTable =\n",
              "            await google.colab.kernel.invokeFunction('convertToInteractive',\n",
              "                                                     [key], {});\n",
              "          if (!dataTable) return;\n",
              "\n",
              "          const docLinkHtml = 'Like what you see? Visit the ' +\n",
              "            '<a target=\"_blank\" href=https://colab.research.google.com/notebooks/data_table.ipynb>data table notebook</a>'\n",
              "            + ' to learn more about interactive tables.';\n",
              "          element.innerHTML = '';\n",
              "          dataTable['output_type'] = 'display_data';\n",
              "          await google.colab.output.renderOutput(dataTable, element);\n",
              "          const docLink = document.createElement('div');\n",
              "          docLink.innerHTML = docLinkHtml;\n",
              "          element.appendChild(docLink);\n",
              "        }\n",
              "      </script>\n",
              "    </div>\n",
              "  </div>\n",
              "  "
            ],
            "text/plain": [
              "        PC-1      PC-2       target\n",
              "0 -10.036763 -0.451330  Iris-setosa\n",
              "1  -9.172930 -1.477234  Iris-setosa\n",
              "2  -9.480989 -0.979693  Iris-setosa\n",
              "3  -8.818119 -1.408602  Iris-setosa\n",
              "4  -9.960200 -0.112546  Iris-setosa"
            ]
          },
          "metadata": {},
          "execution_count": 25
        }
      ]
    },
    {
      "cell_type": "markdown",
      "source": [
        "# Additional Tasks"
      ],
      "metadata": {
        "id": "WHr7N-uHbWIQ"
      }
    },
    {
      "cell_type": "markdown",
      "source": [
        "## Visualization"
      ],
      "metadata": {
        "id": "XSKVEIBUfWVs"
      }
    },
    {
      "cell_type": "code",
      "source": [
        "\n",
        "# Plotting pc1 & pc2\n",
        "fig = plt.figure(figsize = (8,8))\n",
        "ax = fig.add_subplot(1,1,1) \n",
        "ax.set_xlabel('PC-1', fontsize = 15)\n",
        "ax.set_ylabel('PC-2', fontsize = 15)\n",
        "ax.set_title('LDA on IRIS Dataset', fontsize = 20)\n",
        "targets = ['Iris-setosa', 'Iris-versicolor', 'Iris-virginica']\n",
        "colors = ['g', 'r', 'b']\n",
        "for target, color in zip(targets,colors):\n",
        "    indicesToKeep = finalDf['target'] == target\n",
        "    ax.scatter(finalDf.loc[indicesToKeep, 'PC-1']\n",
        "               , finalDf.loc[indicesToKeep, 'PC-2']\n",
        "               , c = color\n",
        "               , s = 30)\n",
        "ax.legend(targets)\n",
        "ax.grid()\n",
        "plt.show()"
      ],
      "metadata": {
        "colab": {
          "base_uri": "https://localhost:8080/",
          "height": 523
        },
        "id": "XSBTjM-SWSue",
        "outputId": "84256365-5585-43f9-dc00-e84467238f36"
      },
      "execution_count": 26,
      "outputs": [
        {
          "output_type": "display_data",
          "data": {
            "image/png": "[encoded data removed]",
            "text/plain": [
              "<Figure size 576x576 with 1 Axes>"
            ]
          },
          "metadata": {
            "needs_background": "light"
          }
        }
      ]
    }
  ]
}