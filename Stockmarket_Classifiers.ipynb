{
  "cells": [
    {
      "cell_type": "markdown",
      "metadata": {
        "id": "view-in-github",
        "colab_type": "text"
      },
      "source": [
        "<a href=\"https://colab.research.google.com/github/philsaurabh/Machine-Learning-Tutorials/blob/main/Stockmarket_Classifiers.ipynb\" target=\"_parent\"><img src=\"https://colab.research.google.com/assets/colab-badge.svg\" alt=\"Open In Colab\"/></a>"
      ]
    },
    {
      "cell_type": "code",
      "execution_count": null,
      "metadata": {
        "id": "ZcoJ31BVkat0"
      },
      "outputs": [],
      "source": [
        "import pandas as pd\n",
        "import numpy as np\n",
        "import matplotlib.pyplot as plt\n",
        "from sklearn.linear_model import LogisticRegression\n",
        "from sklearn.discriminant_analysis import LinearDiscriminantAnalysis\n",
        "from sklearn.metrics import confusion_matrix, classification_report, precision_score\n",
        "from sklearn.metrics import accuracy_score\n",
        "from sklearn.metrics import roc_auc_score\n",
        "from sklearn.metrics import roc_curve"
      ]
    },
    {
      "cell_type": "markdown",
      "source": [
        "This data is about Stock market data. It contains 1,089 weekly returns for 21 years, from the beginning of 1990 to the end of 2010."
      ],
      "metadata": {
        "id": "xWFJvuc9ni1r"
      }
    },
    {
      "cell_type": "code",
      "execution_count": null,
      "metadata": {
        "colab": {
          "base_uri": "https://localhost:8080/",
          "height": 206
        },
        "id": "ug_pd2GGkat9",
        "outputId": "322b4a37-be06-4fda-d791-a5bb1dcb0a17"
      },
      "outputs": [
        {
          "output_type": "execute_result",
          "data": {
            "text/html": [
              "\n",
              "  <div id=\"df-7ff6f238-4d46-498d-9c58-1ecf520125fb\">\n",
              "    <div class=\"colab-df-container\">\n",
              "      <div>\n",
              "<style scoped>\n",
              "    .dataframe tbody tr th:only-of-type {\n",
              "        vertical-align: middle;\n",
              "    }\n",
              "\n",
              "    .dataframe tbody tr th {\n",
              "        vertical-align: top;\n",
              "    }\n",
              "\n",
              "    .dataframe thead th {\n",
              "        text-align: right;\n",
              "    }\n",
              "</style>\n",
              "<table border=\"1\" class=\"dataframe\">\n",
              "  <thead>\n",
              "    <tr style=\"text-align: right;\">\n",
              "      <th></th>\n",
              "      <th>Unnamed: 0</th>\n",
              "      <th>Year</th>\n",
              "      <th>Lag1</th>\n",
              "      <th>Lag2</th>\n",
              "      <th>Lag3</th>\n",
              "      <th>Lag4</th>\n",
              "      <th>Lag5</th>\n",
              "      <th>Volume</th>\n",
              "      <th>Today</th>\n",
              "      <th>Direction</th>\n",
              "    </tr>\n",
              "  </thead>\n",
              "  <tbody>\n",
              "    <tr>\n",
              "      <th>0</th>\n",
              "      <td>1</td>\n",
              "      <td>1990</td>\n",
              "      <td>0.816</td>\n",
              "      <td>1.572</td>\n",
              "      <td>-3.936</td>\n",
              "      <td>-0.229</td>\n",
              "      <td>-3.484</td>\n",
              "      <td>0.154976</td>\n",
              "      <td>-0.270</td>\n",
              "      <td>Down</td>\n",
              "    </tr>\n",
              "    <tr>\n",
              "      <th>1</th>\n",
              "      <td>2</td>\n",
              "      <td>1990</td>\n",
              "      <td>-0.270</td>\n",
              "      <td>0.816</td>\n",
              "      <td>1.572</td>\n",
              "      <td>-3.936</td>\n",
              "      <td>-0.229</td>\n",
              "      <td>0.148574</td>\n",
              "      <td>-2.576</td>\n",
              "      <td>Down</td>\n",
              "    </tr>\n",
              "    <tr>\n",
              "      <th>2</th>\n",
              "      <td>3</td>\n",
              "      <td>1990</td>\n",
              "      <td>-2.576</td>\n",
              "      <td>-0.270</td>\n",
              "      <td>0.816</td>\n",
              "      <td>1.572</td>\n",
              "      <td>-3.936</td>\n",
              "      <td>0.159837</td>\n",
              "      <td>3.514</td>\n",
              "      <td>Up</td>\n",
              "    </tr>\n",
              "    <tr>\n",
              "      <th>3</th>\n",
              "      <td>4</td>\n",
              "      <td>1990</td>\n",
              "      <td>3.514</td>\n",
              "      <td>-2.576</td>\n",
              "      <td>-0.270</td>\n",
              "      <td>0.816</td>\n",
              "      <td>1.572</td>\n",
              "      <td>0.161630</td>\n",
              "      <td>0.712</td>\n",
              "      <td>Up</td>\n",
              "    </tr>\n",
              "    <tr>\n",
              "      <th>4</th>\n",
              "      <td>5</td>\n",
              "      <td>1990</td>\n",
              "      <td>0.712</td>\n",
              "      <td>3.514</td>\n",
              "      <td>-2.576</td>\n",
              "      <td>-0.270</td>\n",
              "      <td>0.816</td>\n",
              "      <td>0.153728</td>\n",
              "      <td>1.178</td>\n",
              "      <td>Up</td>\n",
              "    </tr>\n",
              "  </tbody>\n",
              "</table>\n",
              "</div>\n",
              "      <button class=\"colab-df-convert\" onclick=\"convertToInteractive('df-7ff6f238-4d46-498d-9c58-1ecf520125fb')\"\n",
              "              title=\"Convert this dataframe to an interactive table.\"\n",
              "              style=\"display:none;\">\n",
              "        \n",
              "  <svg xmlns=\"http://www.w3.org/2000/svg\" height=\"24px\"viewBox=\"0 0 24 24\"\n",
              "       width=\"24px\">\n",
              "    <path d=\"M0 0h24v24H0V0z\" fill=\"none\"/>\n",
              "    <path d=\"M18.56 5.44l.94 2.06.94-2.06 2.06-.94-2.06-.94-.94-2.06-.94 2.06-2.06.94zm-11 1L8.5 8.5l.94-2.06 2.06-.94-2.06-.94L8.5 2.5l-.94 2.06-2.06.94zm10 10l.94 2.06.94-2.06 2.06-.94-2.06-.94-.94-2.06-.94 2.06-2.06.94z\"/><path d=\"M17.41 7.96l-1.37-1.37c-.4-.4-.92-.59-1.43-.59-.52 0-1.04.2-1.43.59L10.3 9.45l-7.72 7.72c-.78.78-.78 2.05 0 2.83L4 21.41c.39.39.9.59 1.41.59.51 0 1.02-.2 1.41-.59l7.78-7.78 2.81-2.81c.8-.78.8-2.07 0-2.86zM5.41 20L4 18.59l7.72-7.72 1.47 1.35L5.41 20z\"/>\n",
              "  </svg>\n",
              "      </button>\n",
              "      \n",
              "  <style>\n",
              "    .colab-df-container {\n",
              "      display:flex;\n",
              "      flex-wrap:wrap;\n",
              "      gap: 12px;\n",
              "    }\n",
              "\n",
              "    .colab-df-convert {\n",
              "      background-color: #E8F0FE;\n",
              "      border: none;\n",
              "      border-radius: 50%;\n",
              "      cursor: pointer;\n",
              "      display: none;\n",
              "      fill: #1967D2;\n",
              "      height: 32px;\n",
              "      padding: 0 0 0 0;\n",
              "      width: 32px;\n",
              "    }\n",
              "\n",
              "    .colab-df-convert:hover {\n",
              "      background-color: #E2EBFA;\n",
              "      box-shadow: 0px 1px 2px rgba(60, 64, 67, 0.3), 0px 1px 3px 1px rgba(60, 64, 67, 0.15);\n",
              "      fill: #174EA6;\n",
              "    }\n",
              "\n",
              "    [theme=dark] .colab-df-convert {\n",
              "      background-color: #3B4455;\n",
              "      fill: #D2E3FC;\n",
              "    }\n",
              "\n",
              "    [theme=dark] .colab-df-convert:hover {\n",
              "      background-color: #434B5C;\n",
              "      box-shadow: 0px 1px 3px 1px rgba(0, 0, 0, 0.15);\n",
              "      filter: drop-shadow(0px 1px 2px rgba(0, 0, 0, 0.3));\n",
              "      fill: #FFFFFF;\n",
              "    }\n",
              "  </style>\n",
              "\n",
              "      <script>\n",
              "        const buttonEl =\n",
              "          document.querySelector('#df-7ff6f238-4d46-498d-9c58-1ecf520125fb button.colab-df-convert');\n",
              "        buttonEl.style.display =\n",
              "          google.colab.kernel.accessAllowed ? 'block' : 'none';\n",
              "\n",
              "        async function convertToInteractive(key) {\n",
              "          const element = document.querySelector('#df-7ff6f238-4d46-498d-9c58-1ecf520125fb');\n",
              "          const dataTable =\n",
              "            await google.colab.kernel.invokeFunction('convertToInteractive',\n",
              "                                                     [key], {});\n",
              "          if (!dataTable) return;\n",
              "\n",
              "          const docLinkHtml = 'Like what you see? Visit the ' +\n",
              "            '<a target=\"_blank\" href=https://colab.research.google.com/notebooks/data_table.ipynb>data table notebook</a>'\n",
              "            + ' to learn more about interactive tables.';\n",
              "          element.innerHTML = '';\n",
              "          dataTable['output_type'] = 'display_data';\n",
              "          await google.colab.output.renderOutput(dataTable, element);\n",
              "          const docLink = document.createElement('div');\n",
              "          docLink.innerHTML = docLinkHtml;\n",
              "          element.appendChild(docLink);\n",
              "        }\n",
              "      </script>\n",
              "    </div>\n",
              "  </div>\n",
              "  "
            ],
            "text/plain": [
              "   Unnamed: 0  Year   Lag1   Lag2  ...   Lag5    Volume  Today  Direction\n",
              "0           1  1990  0.816  1.572  ... -3.484  0.154976 -0.270       Down\n",
              "1           2  1990 -0.270  0.816  ... -0.229  0.148574 -2.576       Down\n",
              "2           3  1990 -2.576 -0.270  ... -3.936  0.159837  3.514         Up\n",
              "3           4  1990  3.514 -2.576  ...  1.572  0.161630  0.712         Up\n",
              "4           5  1990  0.712  3.514  ...  0.816  0.153728  1.178         Up\n",
              "\n",
              "[5 rows x 10 columns]"
            ]
          },
          "metadata": {},
          "execution_count": 49
        }
      ],
      "source": [
        "weekly = pd.read_csv(\"https://raw.githubusercontent.com/philsaurabh/Machine-Learning-Tutorials/main/Weekly.csv\")\n",
        "weekly.head()"
      ]
    },
    {
      "cell_type": "code",
      "execution_count": null,
      "metadata": {
        "colab": {
          "base_uri": "https://localhost:8080/"
        },
        "id": "3Y8JjZw_kat_",
        "outputId": "e829e084-368d-4389-9359-f8eda19edeb5"
      },
      "outputs": [
        {
          "output_type": "execute_result",
          "data": {
            "text/plain": [
              "1    605\n",
              "0    484\n",
              "Name: Direction, dtype: int64"
            ]
          },
          "metadata": {},
          "execution_count": 50
        }
      ],
      "source": [
        "# Make categorical outputs numerical\n",
        "weekly['Direction'] = weekly.Direction.map({'Up':1,'Down':0})\n",
        "weekly['Direction'].value_counts()"
      ]
    },
    {
      "cell_type": "code",
      "execution_count": null,
      "metadata": {
        "id": "9dZ7dFm_kauE"
      },
      "outputs": [],
      "source": [
        "# Train data creates the model\n",
        "# Test data tests the accuracy of the model\n",
        "weekly_train = weekly[weekly['Year']<2005]\n",
        "weekly_test = weekly[weekly['Year']>=2005]"
      ]
    },
    {
      "cell_type": "code",
      "execution_count": null,
      "metadata": {
        "colab": {
          "base_uri": "https://localhost:8080/"
        },
        "id": "-6E8b_EEkauE",
        "outputId": "e69775e4-e3ed-4e2b-d189-fb71332c9cf2"
      },
      "outputs": [
        {
          "output_type": "stream",
          "name": "stdout",
          "text": [
            "train size: 776  test size 313\n"
          ]
        }
      ],
      "source": [
        "print('train size: {0}  test size {1}'.format(weekly_train.shape[0],weekly_test.shape[0]))"
      ]
    },
    {
      "cell_type": "code",
      "execution_count": null,
      "metadata": {
        "id": "3ZZzfLRJkauF"
      },
      "outputs": [],
      "source": [
        "# Use Direction as the response and the five lag variables plus Volume as predictors\n",
        "X_train = weekly_train[['Lag1','Lag2','Lag3','Lag4','Lag5','Volume']]\n",
        "y_train = weekly_train[['Direction']]\n",
        "X_test = weekly_test[['Lag1','Lag2','Lag3','Lag4','Lag5','Volume']]\n",
        "y_test = weekly_test[['Direction']]"
      ]
    },
    {
      "cell_type": "code",
      "execution_count": null,
      "metadata": {
        "colab": {
          "base_uri": "https://localhost:8080/"
        },
        "id": "DAPMTzbgkauG",
        "outputId": "a0526185-6b03-4f29-edf3-b4f3d2079ed8"
      },
      "outputs": [
        {
          "output_type": "stream",
          "name": "stdout",
          "text": [
            "LogisticRegression()\n",
            "classes:  [0 1]\n",
            "coefficients:  [[-0.03377348  0.04428604 -0.02218832 -0.04019038 -0.06056397 -0.17677777]]\n",
            "intercept : [0.3780422]\n"
          ]
        }
      ],
      "source": [
        "# Logistic Regression\n",
        "# Fit the model on the train data (scikit-learn estimation)\n",
        "clf = LogisticRegression()\n",
        "clf.fit(X_train,y_train.values.ravel())\n",
        "print(clf)\n",
        "print('classes: ',clf.classes_) \n",
        "print('coefficients: ',clf.coef_)\n",
        "print('intercept :', clf.intercept_)"
      ]
    },
    {
      "cell_type": "code",
      "execution_count": null,
      "metadata": {
        "colab": {
          "base_uri": "https://localhost:8080/"
        },
        "id": "Tv4wSO7IkauH",
        "outputId": "96808556-cd4d-41e9-b9f7-dc544b4af7d1"
      },
      "outputs": [
        {
          "output_type": "stream",
          "name": "stdout",
          "text": [
            "Training accuracy score: 0.559\n",
            "Test accuracy score: 0.473\n",
            "\n",
            "Confusion table:\n",
            " True         0    1\n",
            "Predicted          \n",
            "0          113  137\n",
            "1           28   35\n",
            "\n",
            "               precision    recall  f1-score   support\n",
            "\n",
            "           0       0.45      0.80      0.58       141\n",
            "           1       0.56      0.20      0.30       172\n",
            "\n",
            "    accuracy                           0.47       313\n",
            "   macro avg       0.50      0.50      0.44       313\n",
            "weighted avg       0.51      0.47      0.42       313\n",
            "\n"
          ]
        }
      ],
      "source": [
        "# Variable to predict slk model using X_test perdictors\n",
        "clf_pred = clf.predict(X_test)\n",
        "\n",
        "# Find the training and test set score\n",
        "print(\"Training accuracy score: {:.3f}\".format(clf.score(X_train,y_train)))\n",
        "print(\"Test accuracy score: {:.3f}\".format(clf.score(X_test,y_test)))\n",
        "\n",
        "# Show the confusion matrix\n",
        "cm_df = pd.DataFrame(confusion_matrix(y_test, clf_pred).T, index=clf.classes_,columns=clf.classes_)\n",
        "cm_df.index.name = 'Predicted'\n",
        "cm_df.columns.name = 'True'\n",
        "print('\\nConfusion table:\\n', cm_df)\n",
        "\n",
        "# Additional statistics\n",
        "print('\\n',classification_report(y_test, clf_pred)) "
      ]
    },
    {
      "cell_type": "code",
      "execution_count": null,
      "metadata": {
        "colab": {
          "base_uri": "https://localhost:8080/",
          "height": 295
        },
        "id": "4Mvm8MPwkauI",
        "outputId": "bb5dd61b-3dd0-4d07-ae64-fec23cc6bb00"
      },
      "outputs": [
        {
          "output_type": "display_data",
          "data": {
            "image/png": "[encoded data removed]",
            "text/plain": [
              "<Figure size 432x288 with 1 Axes>"
            ]
          },
          "metadata": {
            "needs_background": "light"
          }
        }
      ],
      "source": [
        "# ROC curve and AUC\n",
        "clf_roc_auc = roc_auc_score(y_test, clf.predict(X_test))\n",
        "fpr, tpr, thresholds = roc_curve(y_test, clf.predict_proba(X_test)[:,1])\n",
        "plt.figure()\n",
        "plt.plot(fpr, tpr, label='Logistic Regression (area = %0.2f)' % clf_roc_auc)\n",
        "plt.plot([0, 1], [0, 1],'r--')\n",
        "plt.xlim([0.0, 1.0])\n",
        "plt.ylim([0.0, 1.05])\n",
        "plt.xlabel('1-Specificity')\n",
        "plt.ylabel('Sensitivity')\n",
        "plt.title('Receiver operating characteristic (R0C)')\n",
        "plt.legend(loc=\"lower right\")\n",
        "plt.savefig('Log_ROC')\n",
        "plt.show()"
      ]
    },
    {
      "cell_type": "markdown",
      "source": [
        "# LDA"
      ],
      "metadata": {
        "id": "fNkXUjS1l2u3"
      }
    },
    {
      "cell_type": "code",
      "execution_count": null,
      "metadata": {
        "colab": {
          "base_uri": "https://localhost:8080/"
        },
        "id": "-6r31IgPkauL",
        "outputId": "cb789861-3713-45b8-ec06-4584df49e103"
      },
      "outputs": [
        {
          "output_type": "stream",
          "name": "stdout",
          "text": [
            "[[0.27440525 0.05883965 0.24726531 0.2553586  0.32569679 0.71228166]\n",
            " [0.12342494 0.29473441 0.13517783 0.12885219 0.06342494 0.67443599]]\n",
            "Training accuracy score: 0.559\n",
            "Test accuracy score: 0.476\n",
            "\n",
            "Confusion table:\n",
            " True         0    1\n",
            "Predicted          \n",
            "0          114  137\n",
            "1           27   35\n",
            "\n",
            "               precision    recall  f1-score   support\n",
            "\n",
            "           0       0.45      0.81      0.58       141\n",
            "           1       0.56      0.20      0.30       172\n",
            "\n",
            "    accuracy                           0.48       313\n",
            "   macro avg       0.51      0.51      0.44       313\n",
            "weighted avg       0.51      0.48      0.43       313\n",
            "\n"
          ]
        },
        {
          "output_type": "stream",
          "name": "stderr",
          "text": [
            "/usr/local/lib/python3.7/dist-packages/sklearn/utils/validation.py:993: DataConversionWarning: A column-vector y was passed when a 1d array was expected. Please change the shape of y to (n_samples, ), for example using ravel().\n",
            "  y = column_or_1d(y, warn=True)\n"
          ]
        }
      ],
      "source": [
        "# Linear Discriminant Analysis\n",
        "# Fit the model on the train data using LDA\n",
        "lda = LinearDiscriminantAnalysis()\n",
        "lda_pred = lda.fit(X_train, y_train).predict(X_test)\n",
        "\n",
        "print(lda.means_)\n",
        "\n",
        "# Find the accuracy of the test predictions vs the true classes\n",
        "print(\"Training accuracy score: {:.3f}\".format(lda.score(X_train,y_train)))\n",
        "print(\"Test accuracy score: {:.3f}\".format(lda.score(X_test,y_test)))\n",
        "\n",
        "# Show the confusion matrix\n",
        "cm_df = pd.DataFrame(confusion_matrix(y_test, lda_pred).T, index=clf.classes_,columns=clf.classes_)\n",
        "cm_df.index.name = 'Predicted'\n",
        "cm_df.columns.name = 'True'\n",
        "print('\\nConfusion table:\\n', cm_df)\n",
        "\n",
        "# Additional statistics\n",
        "print('\\n',classification_report(y_test, lda_pred))"
      ]
    },
    {
      "cell_type": "code",
      "execution_count": null,
      "metadata": {
        "colab": {
          "base_uri": "https://localhost:8080/",
          "height": 295
        },
        "id": "DjlgXdNekauM",
        "outputId": "c47f81a2-c98c-4c71-dc82-ba23ef7d8052"
      },
      "outputs": [
        {
          "output_type": "display_data",
          "data": {
            "image/png": "[encoded data removed]",
            "text/plain": [
              "<Figure size 432x288 with 1 Axes>"
            ]
          },
          "metadata": {
            "needs_background": "light"
          }
        }
      ],
      "source": [
        "# LDA - ROC curve and AUC\n",
        "lda_roc_auc_1 = roc_auc_score(y_test, lda.predict(X_test))\n",
        "fpr, tpr, thresholds = roc_curve(y_test, lda.predict_proba(X_test)[:,1])\n",
        "plt.figure()\n",
        "plt.plot(fpr, tpr, label='Logistic Regression (area = %0.2f)' % lda_roc_auc_1)\n",
        "plt.plot([0, 1], [0, 1],'r--')\n",
        "plt.xlim([0.0, 1.0])\n",
        "plt.ylim([0.0, 1.05])\n",
        "plt.xlabel('1-Specificity')\n",
        "plt.ylabel('Sensitivity')\n",
        "plt.title('ROC_lda_1')\n",
        "plt.legend(loc=\"lower right\")\n",
        "plt.savefig('Log_ROC')\n",
        "plt.show()"
      ]
    }
  ],
  "metadata": {
    "kernelspec": {
      "display_name": "Python 3",
      "language": "python",
      "name": "python3"
    },
    "language_info": {
      "codemirror_mode": {
        "name": "ipython",
        "version": 3
      },
      "file_extension": ".py",
      "mimetype": "text/x-python",
      "name": "python",
      "nbconvert_exporter": "python",
      "pygments_lexer": "ipython3",
      "version": "3.8.5"
    },
    "colab": {
      "name": "Stockmarket Classifiers.ipynb",
      "provenance": [],
      "include_colab_link": true
    }
  },
  "nbformat": 4,
  "nbformat_minor": 0
}