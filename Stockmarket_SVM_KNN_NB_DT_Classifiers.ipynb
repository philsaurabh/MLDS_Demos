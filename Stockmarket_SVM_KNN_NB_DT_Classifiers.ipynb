{
  "cells": [
    {
      "cell_type": "markdown",
      "metadata": {
        "id": "view-in-github",
        "colab_type": "text"
      },
      "source": [
        "<a href=\"https://colab.research.google.com/github/philsaurabh/Machine-Learning-Tutorials/blob/main/Stockmarket_SVM_KNN_NB_DT_Classifiers.ipynb\" target=\"_parent\"><img src=\"https://colab.research.google.com/assets/colab-badge.svg\" alt=\"Open In Colab\"/></a>"
      ]
    },
    {
      "cell_type": "code",
      "execution_count": 1,
      "metadata": {
        "id": "ZcoJ31BVkat0"
      },
      "outputs": [],
      "source": [
        "import pandas as pd\n",
        "import numpy as np\n",
        "import matplotlib.pyplot as plt\n",
        "from sklearn.discriminant_analysis import LinearDiscriminantAnalysis\n",
        "from sklearn.metrics import confusion_matrix, classification_report, precision_score\n",
        "from sklearn.metrics import accuracy_score\n",
        "from sklearn.metrics import roc_auc_score\n",
        "from sklearn.metrics import roc_curve"
      ]
    },
    {
      "cell_type": "markdown",
      "source": [
        "This data is about Stock market data. It contains 1,089 weekly returns for 21 years, from the beginning of 1990 to the end of 2010."
      ],
      "metadata": {
        "id": "xWFJvuc9ni1r"
      }
    },
    {
      "cell_type": "code",
      "execution_count": 2,
      "metadata": {
        "colab": {
          "base_uri": "https://localhost:8080/",
          "height": 206
        },
        "id": "ug_pd2GGkat9",
        "outputId": "6ec9aa2f-a37c-4a60-e876-a3dc4fda2f09"
      },
      "outputs": [
        {
          "output_type": "execute_result",
          "data": {
            "text/html": [
              "\n",
              "  <div id=\"df-f595611d-479c-49fe-bc6b-ed47cf2ebcc1\">\n",
              "    <div class=\"colab-df-container\">\n",
              "      <div>\n",
              "<style scoped>\n",
              "    .dataframe tbody tr th:only-of-type {\n",
              "        vertical-align: middle;\n",
              "    }\n",
              "\n",
              "    .dataframe tbody tr th {\n",
              "        vertical-align: top;\n",
              "    }\n",
              "\n",
              "    .dataframe thead th {\n",
              "        text-align: right;\n",
              "    }\n",
              "</style>\n",
              "<table border=\"1\" class=\"dataframe\">\n",
              "  <thead>\n",
              "    <tr style=\"text-align: right;\">\n",
              "      <th></th>\n",
              "      <th>Unnamed: 0</th>\n",
              "      <th>Year</th>\n",
              "      <th>Lag1</th>\n",
              "      <th>Lag2</th>\n",
              "      <th>Lag3</th>\n",
              "      <th>Lag4</th>\n",
              "      <th>Lag5</th>\n",
              "      <th>Volume</th>\n",
              "      <th>Today</th>\n",
              "      <th>Direction</th>\n",
              "    </tr>\n",
              "  </thead>\n",
              "  <tbody>\n",
              "    <tr>\n",
              "      <th>0</th>\n",
              "      <td>1</td>\n",
              "      <td>1990</td>\n",
              "      <td>0.816</td>\n",
              "      <td>1.572</td>\n",
              "      <td>-3.936</td>\n",
              "      <td>-0.229</td>\n",
              "      <td>-3.484</td>\n",
              "      <td>0.154976</td>\n",
              "      <td>-0.270</td>\n",
              "      <td>Down</td>\n",
              "    </tr>\n",
              "    <tr>\n",
              "      <th>1</th>\n",
              "      <td>2</td>\n",
              "      <td>1990</td>\n",
              "      <td>-0.270</td>\n",
              "      <td>0.816</td>\n",
              "      <td>1.572</td>\n",
              "      <td>-3.936</td>\n",
              "      <td>-0.229</td>\n",
              "      <td>0.148574</td>\n",
              "      <td>-2.576</td>\n",
              "      <td>Down</td>\n",
              "    </tr>\n",
              "    <tr>\n",
              "      <th>2</th>\n",
              "      <td>3</td>\n",
              "      <td>1990</td>\n",
              "      <td>-2.576</td>\n",
              "      <td>-0.270</td>\n",
              "      <td>0.816</td>\n",
              "      <td>1.572</td>\n",
              "      <td>-3.936</td>\n",
              "      <td>0.159837</td>\n",
              "      <td>3.514</td>\n",
              "      <td>Up</td>\n",
              "    </tr>\n",
              "    <tr>\n",
              "      <th>3</th>\n",
              "      <td>4</td>\n",
              "      <td>1990</td>\n",
              "      <td>3.514</td>\n",
              "      <td>-2.576</td>\n",
              "      <td>-0.270</td>\n",
              "      <td>0.816</td>\n",
              "      <td>1.572</td>\n",
              "      <td>0.161630</td>\n",
              "      <td>0.712</td>\n",
              "      <td>Up</td>\n",
              "    </tr>\n",
              "    <tr>\n",
              "      <th>4</th>\n",
              "      <td>5</td>\n",
              "      <td>1990</td>\n",
              "      <td>0.712</td>\n",
              "      <td>3.514</td>\n",
              "      <td>-2.576</td>\n",
              "      <td>-0.270</td>\n",
              "      <td>0.816</td>\n",
              "      <td>0.153728</td>\n",
              "      <td>1.178</td>\n",
              "      <td>Up</td>\n",
              "    </tr>\n",
              "  </tbody>\n",
              "</table>\n",
              "</div>\n",
              "      <button class=\"colab-df-convert\" onclick=\"convertToInteractive('df-f595611d-479c-49fe-bc6b-ed47cf2ebcc1')\"\n",
              "              title=\"Convert this dataframe to an interactive table.\"\n",
              "              style=\"display:none;\">\n",
              "        \n",
              "  <svg xmlns=\"http://www.w3.org/2000/svg\" height=\"24px\"viewBox=\"0 0 24 24\"\n",
              "       width=\"24px\">\n",
              "    <path d=\"M0 0h24v24H0V0z\" fill=\"none\"/>\n",
              "    <path d=\"M18.56 5.44l.94 2.06.94-2.06 2.06-.94-2.06-.94-.94-2.06-.94 2.06-2.06.94zm-11 1L8.5 8.5l.94-2.06 2.06-.94-2.06-.94L8.5 2.5l-.94 2.06-2.06.94zm10 10l.94 2.06.94-2.06 2.06-.94-2.06-.94-.94-2.06-.94 2.06-2.06.94z\"/><path d=\"M17.41 7.96l-1.37-1.37c-.4-.4-.92-.59-1.43-.59-.52 0-1.04.2-1.43.59L10.3 9.45l-7.72 7.72c-.78.78-.78 2.05 0 2.83L4 21.41c.39.39.9.59 1.41.59.51 0 1.02-.2 1.41-.59l7.78-7.78 2.81-2.81c.8-.78.8-2.07 0-2.86zM5.41 20L4 18.59l7.72-7.72 1.47 1.35L5.41 20z\"/>\n",
              "  </svg>\n",
              "      </button>\n",
              "      \n",
              "  <style>\n",
              "    .colab-df-container {\n",
              "      display:flex;\n",
              "      flex-wrap:wrap;\n",
              "      gap: 12px;\n",
              "    }\n",
              "\n",
              "    .colab-df-convert {\n",
              "      background-color: #E8F0FE;\n",
              "      border: none;\n",
              "      border-radius: 50%;\n",
              "      cursor: pointer;\n",
              "      display: none;\n",
              "      fill: #1967D2;\n",
              "      height: 32px;\n",
              "      padding: 0 0 0 0;\n",
              "      width: 32px;\n",
              "    }\n",
              "\n",
              "    .colab-df-convert:hover {\n",
              "      background-color: #E2EBFA;\n",
              "      box-shadow: 0px 1px 2px rgba(60, 64, 67, 0.3), 0px 1px 3px 1px rgba(60, 64, 67, 0.15);\n",
              "      fill: #174EA6;\n",
              "    }\n",
              "\n",
              "    [theme=dark] .colab-df-convert {\n",
              "      background-color: #3B4455;\n",
              "      fill: #D2E3FC;\n",
              "    }\n",
              "\n",
              "    [theme=dark] .colab-df-convert:hover {\n",
              "      background-color: #434B5C;\n",
              "      box-shadow: 0px 1px 3px 1px rgba(0, 0, 0, 0.15);\n",
              "      filter: drop-shadow(0px 1px 2px rgba(0, 0, 0, 0.3));\n",
              "      fill: #FFFFFF;\n",
              "    }\n",
              "  </style>\n",
              "\n",
              "      <script>\n",
              "        const buttonEl =\n",
              "          document.querySelector('#df-f595611d-479c-49fe-bc6b-ed47cf2ebcc1 button.colab-df-convert');\n",
              "        buttonEl.style.display =\n",
              "          google.colab.kernel.accessAllowed ? 'block' : 'none';\n",
              "\n",
              "        async function convertToInteractive(key) {\n",
              "          const element = document.querySelector('#df-f595611d-479c-49fe-bc6b-ed47cf2ebcc1');\n",
              "          const dataTable =\n",
              "            await google.colab.kernel.invokeFunction('convertToInteractive',\n",
              "                                                     [key], {});\n",
              "          if (!dataTable) return;\n",
              "\n",
              "          const docLinkHtml = 'Like what you see? Visit the ' +\n",
              "            '<a target=\"_blank\" href=https://colab.research.google.com/notebooks/data_table.ipynb>data table notebook</a>'\n",
              "            + ' to learn more about interactive tables.';\n",
              "          element.innerHTML = '';\n",
              "          dataTable['output_type'] = 'display_data';\n",
              "          await google.colab.output.renderOutput(dataTable, element);\n",
              "          const docLink = document.createElement('div');\n",
              "          docLink.innerHTML = docLinkHtml;\n",
              "          element.appendChild(docLink);\n",
              "        }\n",
              "      </script>\n",
              "    </div>\n",
              "  </div>\n",
              "  "
            ],
            "text/plain": [
              "   Unnamed: 0  Year   Lag1   Lag2  ...   Lag5    Volume  Today  Direction\n",
              "0           1  1990  0.816  1.572  ... -3.484  0.154976 -0.270       Down\n",
              "1           2  1990 -0.270  0.816  ... -0.229  0.148574 -2.576       Down\n",
              "2           3  1990 -2.576 -0.270  ... -3.936  0.159837  3.514         Up\n",
              "3           4  1990  3.514 -2.576  ...  1.572  0.161630  0.712         Up\n",
              "4           5  1990  0.712  3.514  ...  0.816  0.153728  1.178         Up\n",
              "\n",
              "[5 rows x 10 columns]"
            ]
          },
          "metadata": {},
          "execution_count": 2
        }
      ],
      "source": [
        "weekly = pd.read_csv(\"https://raw.githubusercontent.com/philsaurabh/Machine-Learning-Tutorials/main/Weekly.csv\")\n",
        "weekly.head()"
      ]
    },
    {
      "cell_type": "code",
      "execution_count": 3,
      "metadata": {
        "colab": {
          "base_uri": "https://localhost:8080/"
        },
        "id": "3Y8JjZw_kat_",
        "outputId": "90f6a373-ef5a-4ce9-efa7-f34971230bc1"
      },
      "outputs": [
        {
          "output_type": "execute_result",
          "data": {
            "text/plain": [
              "1    605\n",
              "0    484\n",
              "Name: Direction, dtype: int64"
            ]
          },
          "metadata": {},
          "execution_count": 3
        }
      ],
      "source": [
        "# Make categorical outputs numerical\n",
        "weekly['Direction'] = weekly.Direction.map({'Up':1,'Down':0})\n",
        "weekly['Direction'].value_counts()"
      ]
    },
    {
      "cell_type": "code",
      "execution_count": 4,
      "metadata": {
        "id": "9dZ7dFm_kauE"
      },
      "outputs": [],
      "source": [
        "# Train data creates the model\n",
        "# Test data tests the accuracy of the model\n",
        "weekly_train = weekly[weekly['Year']<2005]\n",
        "weekly_test = weekly[weekly['Year']>=2005]"
      ]
    },
    {
      "cell_type": "code",
      "execution_count": 5,
      "metadata": {
        "colab": {
          "base_uri": "https://localhost:8080/"
        },
        "id": "-6E8b_EEkauE",
        "outputId": "5cce6ed3-0f1a-4e9f-bcbd-2db5041011aa"
      },
      "outputs": [
        {
          "output_type": "stream",
          "name": "stdout",
          "text": [
            "train size: 776  test size 313\n"
          ]
        }
      ],
      "source": [
        "print('train size: {0}  test size {1}'.format(weekly_train.shape[0],weekly_test.shape[0]))"
      ]
    },
    {
      "cell_type": "code",
      "execution_count": 6,
      "metadata": {
        "id": "3ZZzfLRJkauF"
      },
      "outputs": [],
      "source": [
        "# Use Direction as the response and the five lag variables plus Volume as predictors\n",
        "X_train = weekly_train[['Lag1','Lag2','Lag3','Lag4','Lag5','Volume']]\n",
        "y_train = weekly_train[['Direction']]\n",
        "X_test = weekly_test[['Lag1','Lag2','Lag3','Lag4','Lag5','Volume']]\n",
        "y_test = weekly_test[['Direction']]"
      ]
    },
    {
      "cell_type": "markdown",
      "source": [
        "# SVM"
      ],
      "metadata": {
        "id": "tDyaof1AaeF2"
      }
    },
    {
      "cell_type": "code",
      "execution_count": 25,
      "metadata": {
        "colab": {
          "base_uri": "https://localhost:8080/"
        },
        "id": "DAPMTzbgkauG",
        "outputId": "e7c6982c-cbae-4f25-b0c9-2185e9a883b5"
      },
      "outputs": [
        {
          "output_type": "stream",
          "name": "stdout",
          "text": [
            "SVC(probability=True)\n"
          ]
        }
      ],
      "source": [
        "# SVM\n",
        "# Fit the model on the train data (scikit-learn estimation)\n",
        "from sklearn.svm import SVC\n",
        "clf = SVC(probability=True)\n",
        "clf.fit(X_train,y_train.values.ravel())\n",
        "print(clf)"
      ]
    },
    {
      "cell_type": "code",
      "execution_count": 26,
      "metadata": {
        "colab": {
          "base_uri": "https://localhost:8080/"
        },
        "id": "Tv4wSO7IkauH",
        "outputId": "4bc96252-ec02-4f58-da4c-6cea2a573a82"
      },
      "outputs": [
        {
          "output_type": "stream",
          "name": "stdout",
          "text": [
            "Training accuracy score: 0.662\n",
            "Test accuracy score: 0.553\n",
            "\n",
            "Confusion table:\n",
            " True         0    1\n",
            "Predicted          \n",
            "0           20   19\n",
            "1          121  153\n",
            "\n",
            "               precision    recall  f1-score   support\n",
            "\n",
            "           0       0.51      0.14      0.22       141\n",
            "           1       0.56      0.89      0.69       172\n",
            "\n",
            "    accuracy                           0.55       313\n",
            "   macro avg       0.54      0.52      0.45       313\n",
            "weighted avg       0.54      0.55      0.48       313\n",
            "\n"
          ]
        }
      ],
      "source": [
        "# Variable to predict slk model using X_test perdictors\n",
        "clf_pred = clf.predict(X_test)\n",
        "\n",
        "# Find the training and test set score\n",
        "print(\"Training accuracy score: {:.3f}\".format(clf.score(X_train,y_train)))\n",
        "print(\"Test accuracy score: {:.3f}\".format(clf.score(X_test,y_test)))\n",
        "\n",
        "# Show the confusion matrix\n",
        "cm_df = pd.DataFrame(confusion_matrix(y_test, clf_pred).T, index=clf.classes_,columns=clf.classes_)\n",
        "cm_df.index.name = 'Predicted'\n",
        "cm_df.columns.name = 'True'\n",
        "print('\\nConfusion table:\\n', cm_df)\n",
        "\n",
        "# Additional statistics\n",
        "print('\\n',classification_report(y_test, clf_pred)) "
      ]
    },
    {
      "cell_type": "code",
      "source": [
        "# Exp, ROC curve and AUC\n",
        "clf_roc_auc_exp = roc_auc_score(y_test, clf.predict(X_test))\n",
        "fpr, tpr, thresholds = roc_curve(y_test, clf.predict_proba(X_test)[:,1])\n",
        "plt.figure()\n",
        "plt.plot(fpr, tpr, label='Logistic Regression (area = %0.2f)' % clf_roc_auc_exp)\n",
        "plt.plot([0, 1], [0, 1],'r--')\n",
        "plt.xlim([0.0, 1.0])\n",
        "plt.ylim([0.0, 1.05])\n",
        "plt.xlabel('1-Specificity')\n",
        "plt.ylabel('Sensitivity')\n",
        "plt.title('ROC_clf_exp')\n",
        "plt.legend(loc=\"lower right\")\n",
        "plt.savefig('Log_ROC')\n",
        "plt.show()"
      ],
      "metadata": {
        "id": "aYrEWgpWoULd",
        "outputId": "5ef85f02-07d1-40e6-bb67-8dd993e2b169",
        "colab": {
          "base_uri": "https://localhost:8080/",
          "height": 295
        }
      },
      "execution_count": 27,
      "outputs": [
        {
          "output_type": "display_data",
          "data": {
            "image/png": "[encoded data removed]",
            "text/plain": [
              "<Figure size 432x288 with 1 Axes>"
            ]
          },
          "metadata": {
            "needs_background": "light"
          }
        }
      ]
    },
    {
      "cell_type": "markdown",
      "source": [
        "# GaussianNB"
      ],
      "metadata": {
        "id": "HFOyAIfobDRR"
      }
    },
    {
      "cell_type": "code",
      "source": [
        "# Fit the model on the train data (scikit-learn estimation)\n",
        "from sklearn.naive_bayes import GaussianNB\n",
        "clf = GaussianNB()\n",
        "clf.fit(X_train,y_train.values.ravel())\n",
        "print(clf)"
      ],
      "metadata": {
        "colab": {
          "base_uri": "https://localhost:8080/"
        },
        "id": "n7UIgjJ5aaeR",
        "outputId": "a50b7c0c-dccf-44ac-bb72-843d522e33f9"
      },
      "execution_count": 19,
      "outputs": [
        {
          "output_type": "stream",
          "name": "stdout",
          "text": [
            "GaussianNB()\n"
          ]
        }
      ]
    },
    {
      "cell_type": "code",
      "source": [
        "# Variable to predict slk model using X_test perdictors\n",
        "clf_pred = clf.predict(X_test)\n",
        "\n",
        "# Find the training and test set score\n",
        "print(\"Training accuracy score: {:.3f}\".format(clf.score(X_train,y_train)))\n",
        "print(\"Test accuracy score: {:.3f}\".format(clf.score(X_test,y_test)))\n",
        "\n",
        "# Show the confusion matrix\n",
        "cm_df = pd.DataFrame(confusion_matrix(y_test, clf_pred).T, index=clf.classes_,columns=clf.classes_)\n",
        "cm_df.index.name = 'Predicted'\n",
        "cm_df.columns.name = 'True'\n",
        "print('\\nConfusion table:\\n', cm_df)\n",
        "\n",
        "# Additional statistics\n",
        "print('\\n',classification_report(y_test, clf_pred)) "
      ],
      "metadata": {
        "colab": {
          "base_uri": "https://localhost:8080/"
        },
        "id": "oMT_KTEKbFpW",
        "outputId": "154efb84-2d70-4688-ebfe-acdc8c5b18ce"
      },
      "execution_count": 20,
      "outputs": [
        {
          "output_type": "stream",
          "name": "stdout",
          "text": [
            "Training accuracy score: 0.558\n",
            "Test accuracy score: 0.524\n",
            "\n",
            "Confusion table:\n",
            " True         0    1\n",
            "Predicted          \n",
            "0           21   29\n",
            "1          120  143\n",
            "\n",
            "               precision    recall  f1-score   support\n",
            "\n",
            "           0       0.42      0.15      0.22       141\n",
            "           1       0.54      0.83      0.66       172\n",
            "\n",
            "    accuracy                           0.52       313\n",
            "   macro avg       0.48      0.49      0.44       313\n",
            "weighted avg       0.49      0.52      0.46       313\n",
            "\n"
          ]
        }
      ]
    },
    {
      "cell_type": "code",
      "source": [
        "# Exp, ROC curve and AUC\n",
        "clf_roc_auc_exp = roc_auc_score(y_test, clf.predict(X_test))\n",
        "fpr, tpr, thresholds = roc_curve(y_test, clf.predict_proba(X_test)[:,1])\n",
        "plt.figure()\n",
        "plt.plot(fpr, tpr, label='Logistic Regression (area = %0.2f)' % clf_roc_auc_exp)\n",
        "plt.plot([0, 1], [0, 1],'r--')\n",
        "plt.xlim([0.0, 1.0])\n",
        "plt.ylim([0.0, 1.05])\n",
        "plt.xlabel('1-Specificity')\n",
        "plt.ylabel('Sensitivity')\n",
        "plt.title('ROC_clf_exp')\n",
        "plt.legend(loc=\"lower right\")\n",
        "plt.savefig('Log_ROC')\n",
        "plt.show()"
      ],
      "metadata": {
        "id": "_BR6f2rto7Fk",
        "outputId": "7c23fd09-c72b-4ded-dec3-bd6cad63060b",
        "colab": {
          "base_uri": "https://localhost:8080/",
          "height": 295
        }
      },
      "execution_count": 21,
      "outputs": [
        {
          "output_type": "display_data",
          "data": {
            "image/png": "[encoded data removed]",
            "text/plain": [
              "<Figure size 432x288 with 1 Axes>"
            ]
          },
          "metadata": {
            "needs_background": "light"
          }
        }
      ]
    },
    {
      "cell_type": "markdown",
      "source": [
        "# KNN"
      ],
      "metadata": {
        "id": "whsgB6g6bLZp"
      }
    },
    {
      "cell_type": "code",
      "source": [
        "from sklearn.neighbors import KNeighborsClassifier\n",
        "clf = KNeighborsClassifier(n_neighbors=3)\n",
        "clf.fit(X_train,y_train.values.ravel())\n",
        "print(clf)"
      ],
      "metadata": {
        "colab": {
          "base_uri": "https://localhost:8080/"
        },
        "id": "5826JmWwbJ0r",
        "outputId": "db1a154b-348a-4c09-dae2-07f383f09e5e"
      },
      "execution_count": 16,
      "outputs": [
        {
          "output_type": "stream",
          "name": "stdout",
          "text": [
            "KNeighborsClassifier(n_neighbors=3)\n"
          ]
        }
      ]
    },
    {
      "cell_type": "code",
      "source": [
        "# Variable to predict slk model using X_test perdictors\n",
        "clf_pred = clf.predict(X_test)\n",
        "\n",
        "# Find the training and test set score\n",
        "print(\"Training accuracy score: {:.3f}\".format(clf.score(X_train,y_train)))\n",
        "print(\"Test accuracy score: {:.3f}\".format(clf.score(X_test,y_test)))\n",
        "\n",
        "# Show the confusion matrix\n",
        "cm_df = pd.DataFrame(confusion_matrix(y_test, clf_pred).T, index=clf.classes_,columns=clf.classes_)\n",
        "cm_df.index.name = 'Predicted'\n",
        "cm_df.columns.name = 'True'\n",
        "print('\\nConfusion table:\\n', cm_df)\n",
        "\n",
        "# Additional statistics\n",
        "print('\\n',classification_report(y_test, clf_pred)) "
      ],
      "metadata": {
        "colab": {
          "base_uri": "https://localhost:8080/"
        },
        "id": "o7DvK4WvbXqN",
        "outputId": "845a4b59-a56b-40e6-fe7d-e2641449e1ed"
      },
      "execution_count": 17,
      "outputs": [
        {
          "output_type": "stream",
          "name": "stdout",
          "text": [
            "Training accuracy score: 0.737\n",
            "Test accuracy score: 0.518\n",
            "\n",
            "Confusion table:\n",
            " True        0   1\n",
            "Predicted        \n",
            "0          63  73\n",
            "1          78  99\n",
            "\n",
            "               precision    recall  f1-score   support\n",
            "\n",
            "           0       0.46      0.45      0.45       141\n",
            "           1       0.56      0.58      0.57       172\n",
            "\n",
            "    accuracy                           0.52       313\n",
            "   macro avg       0.51      0.51      0.51       313\n",
            "weighted avg       0.52      0.52      0.52       313\n",
            "\n"
          ]
        }
      ]
    },
    {
      "cell_type": "code",
      "source": [
        "# Exp, ROC curve and AUC\n",
        "clf_roc_auc_exp = roc_auc_score(y_test, clf.predict(X_test))\n",
        "fpr, tpr, thresholds = roc_curve(y_test, clf.predict_proba(X_test)[:,1])\n",
        "plt.figure()\n",
        "plt.plot(fpr, tpr, label='Logistic Regression (area = %0.2f)' % clf_roc_auc_exp)\n",
        "plt.plot([0, 1], [0, 1],'r--')\n",
        "plt.xlim([0.0, 1.0])\n",
        "plt.ylim([0.0, 1.05])\n",
        "plt.xlabel('1-Specificity')\n",
        "plt.ylabel('Sensitivity')\n",
        "plt.title('ROC_clf_exp')\n",
        "plt.legend(loc=\"lower right\")\n",
        "plt.savefig('Log_ROC')\n",
        "plt.show()"
      ],
      "metadata": {
        "id": "7Iaij4rMoz55",
        "outputId": "43d6b02d-41b2-44eb-aabf-5d62ccb90731",
        "colab": {
          "base_uri": "https://localhost:8080/",
          "height": 295
        }
      },
      "execution_count": 18,
      "outputs": [
        {
          "output_type": "display_data",
          "data": {
            "image/png": "[encoded data removed]",
            "text/plain": [
              "<Figure size 432x288 with 1 Axes>"
            ]
          },
          "metadata": {
            "needs_background": "light"
          }
        }
      ]
    },
    {
      "cell_type": "markdown",
      "source": [
        "# Decision Tree"
      ],
      "metadata": {
        "id": "cnkE67Kuo3kL"
      }
    },
    {
      "cell_type": "code",
      "source": [
        "from sklearn.tree import DecisionTreeClassifier\n",
        "clf = DecisionTreeClassifier(random_state=0)\n",
        "clf.fit(X_train,y_train.values.ravel())\n",
        "print(clf)"
      ],
      "metadata": {
        "colab": {
          "base_uri": "https://localhost:8080/"
        },
        "id": "XlktUvrzbZdG",
        "outputId": "7e85681c-0ced-4962-d261-732ddb35cf9f"
      },
      "execution_count": 13,
      "outputs": [
        {
          "output_type": "stream",
          "name": "stdout",
          "text": [
            "DecisionTreeClassifier(random_state=0)\n"
          ]
        }
      ]
    },
    {
      "cell_type": "code",
      "source": [
        "# Variable to predict slk model using X_test perdictors\n",
        "clf_pred = clf.predict(X_test)\n",
        "\n",
        "# Find the training and test set score\n",
        "print(\"Training accuracy score: {:.3f}\".format(clf.score(X_train,y_train)))\n",
        "print(\"Test accuracy score: {:.3f}\".format(clf.score(X_test,y_test)))\n",
        "\n",
        "# Show the confusion matrix\n",
        "cm_df = pd.DataFrame(confusion_matrix(y_test, clf_pred).T, index=clf.classes_,columns=clf.classes_)\n",
        "cm_df.index.name = 'Predicted'\n",
        "cm_df.columns.name = 'True'\n",
        "print('\\nConfusion table:\\n', cm_df)\n",
        "\n",
        "# Additional statistics\n",
        "print('\\n',classification_report(y_test, clf_pred)) "
      ],
      "metadata": {
        "colab": {
          "base_uri": "https://localhost:8080/"
        },
        "id": "Qz8OZI_cbpT7",
        "outputId": "475320cc-0dfc-4653-85c4-074a16fe530e"
      },
      "execution_count": 14,
      "outputs": [
        {
          "output_type": "stream",
          "name": "stdout",
          "text": [
            "Training accuracy score: 1.000\n",
            "Test accuracy score: 0.524\n",
            "\n",
            "Confusion table:\n",
            " True         0    1\n",
            "Predicted          \n",
            "0           37   45\n",
            "1          104  127\n",
            "\n",
            "               precision    recall  f1-score   support\n",
            "\n",
            "           0       0.45      0.26      0.33       141\n",
            "           1       0.55      0.74      0.63       172\n",
            "\n",
            "    accuracy                           0.52       313\n",
            "   macro avg       0.50      0.50      0.48       313\n",
            "weighted avg       0.51      0.52      0.50       313\n",
            "\n"
          ]
        }
      ]
    },
    {
      "cell_type": "code",
      "source": [
        "# Exp, ROC curve and AUC\n",
        "clf_roc_auc_exp = roc_auc_score(y_test, clf.predict(X_test))\n",
        "fpr, tpr, thresholds = roc_curve(y_test, clf.predict_proba(X_test)[:,1])\n",
        "plt.figure()\n",
        "plt.plot(fpr, tpr, label='Logistic Regression (area = %0.2f)' % clf_roc_auc_exp)\n",
        "plt.plot([0, 1], [0, 1],'r--')\n",
        "plt.xlim([0.0, 1.0])\n",
        "plt.ylim([0.0, 1.05])\n",
        "plt.xlabel('1-Specificity')\n",
        "plt.ylabel('Sensitivity')\n",
        "plt.title('ROC_clf_exp')\n",
        "plt.legend(loc=\"lower right\")\n",
        "plt.savefig('Log_ROC')\n",
        "plt.show()"
      ],
      "metadata": {
        "id": "d5nn-fsCog4Q",
        "outputId": "c93a70be-6d95-434a-995b-4ad0e346a0c1",
        "colab": {
          "base_uri": "https://localhost:8080/",
          "height": 295
        }
      },
      "execution_count": 15,
      "outputs": [
        {
          "output_type": "display_data",
          "data": {
            "image/png": "[encoded data removed]",
            "text/plain": [
              "<Figure size 432x288 with 1 Axes>"
            ]
          },
          "metadata": {
            "needs_background": "light"
          }
        }
      ]
    }
  ],
  "metadata": {
    "kernelspec": {
      "display_name": "Python 3",
      "language": "python",
      "name": "python3"
    },
    "language_info": {
      "codemirror_mode": {
        "name": "ipython",
        "version": 3
      },
      "file_extension": ".py",
      "mimetype": "text/x-python",
      "name": "python",
      "nbconvert_exporter": "python",
      "pygments_lexer": "ipython3",
      "version": "3.8.5"
    },
    "colab": {
      "name": "Stockmarket SVM KNN NB DT Classifiers.ipynb",
      "provenance": [],
      "include_colab_link": true
    }
  },
  "nbformat": 4,
  "nbformat_minor": 0
}